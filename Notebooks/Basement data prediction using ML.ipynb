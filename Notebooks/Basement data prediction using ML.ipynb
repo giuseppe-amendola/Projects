{
 "cells": [
  {
   "cell_type": "markdown",
   "metadata": {},
   "source": [
    "## Import AutoML and data prep"
   ]
  },
  {
   "cell_type": "code",
   "execution_count": 1,
   "metadata": {},
   "outputs": [
    {
     "name": "stdout",
     "output_type": "stream",
     "text": [
      "Checking whether there is an H2O instance running at http://localhost:54321 ..... not found.\n",
      "Attempting to start a local H2O server...\n",
      "; Java HotSpot(TM) 64-Bit Server VM (build 25.221-b11, mixed mode)\n",
      "  Starting server from C:\\Users\\J1040904\\Anaconda3\\Lib\\site-packages\\h2o\\backend\\bin\\h2o.jar\n",
      "  Ice root: C:\\Users\\J1040904\\AppData\\Local\\Temp\\tmpn6frsvzf\n",
      "  JVM stdout: C:\\Users\\J1040904\\AppData\\Local\\Temp\\tmpn6frsvzf\\h2o_J1040904_started_from_python.out\n",
      "  JVM stderr: C:\\Users\\J1040904\\AppData\\Local\\Temp\\tmpn6frsvzf\\h2o_J1040904_started_from_python.err\n",
      "  Server is running at http://127.0.0.1:54321\n",
      "Connecting to H2O server at http://127.0.0.1:54321 ... successful.\n"
     ]
    },
    {
     "data": {
      "text/html": [
       "<div style=\"overflow:auto\"><table style=\"width:50%\"><tr><td>H2O_cluster_uptime:</td>\n",
       "<td>02 secs</td></tr>\n",
       "<tr><td>H2O_cluster_timezone:</td>\n",
       "<td>Europe/Paris</td></tr>\n",
       "<tr><td>H2O_data_parsing_timezone:</td>\n",
       "<td>UTC</td></tr>\n",
       "<tr><td>H2O_cluster_version:</td>\n",
       "<td>3.34.0.3</td></tr>\n",
       "<tr><td>H2O_cluster_version_age:</td>\n",
       "<td>3 months and 3 days </td></tr>\n",
       "<tr><td>H2O_cluster_name:</td>\n",
       "<td>H2O_from_python_J1040904_761log</td></tr>\n",
       "<tr><td>H2O_cluster_total_nodes:</td>\n",
       "<td>1</td></tr>\n",
       "<tr><td>H2O_cluster_free_memory:</td>\n",
       "<td>7.031 Gb</td></tr>\n",
       "<tr><td>H2O_cluster_total_cores:</td>\n",
       "<td>8</td></tr>\n",
       "<tr><td>H2O_cluster_allowed_cores:</td>\n",
       "<td>8</td></tr>\n",
       "<tr><td>H2O_cluster_status:</td>\n",
       "<td>locked, healthy</td></tr>\n",
       "<tr><td>H2O_connection_url:</td>\n",
       "<td>http://127.0.0.1:54321</td></tr>\n",
       "<tr><td>H2O_connection_proxy:</td>\n",
       "<td>{\"http\": null, \"https\": null}</td></tr>\n",
       "<tr><td>H2O_internal_security:</td>\n",
       "<td>False</td></tr>\n",
       "<tr><td>H2O_API_Extensions:</td>\n",
       "<td>Amazon S3, Algos, AutoML, Core V3, TargetEncoder, Core V4</td></tr>\n",
       "<tr><td>Python_version:</td>\n",
       "<td>3.8.8 final</td></tr></table></div>"
      ],
      "text/plain": [
       "--------------------------  ---------------------------------------------------------\n",
       "H2O_cluster_uptime:         02 secs\n",
       "H2O_cluster_timezone:       Europe/Paris\n",
       "H2O_data_parsing_timezone:  UTC\n",
       "H2O_cluster_version:        3.34.0.3\n",
       "H2O_cluster_version_age:    3 months and 3 days\n",
       "H2O_cluster_name:           H2O_from_python_J1040904_761log\n",
       "H2O_cluster_total_nodes:    1\n",
       "H2O_cluster_free_memory:    7.031 Gb\n",
       "H2O_cluster_total_cores:    8\n",
       "H2O_cluster_allowed_cores:  8\n",
       "H2O_cluster_status:         locked, healthy\n",
       "H2O_connection_url:         http://127.0.0.1:54321\n",
       "H2O_connection_proxy:       {\"http\": null, \"https\": null}\n",
       "H2O_internal_security:      False\n",
       "H2O_API_Extensions:         Amazon S3, Algos, AutoML, Core V3, TargetEncoder, Core V4\n",
       "Python_version:             3.8.8 final\n",
       "--------------------------  ---------------------------------------------------------"
      ]
     },
     "metadata": {},
     "output_type": "display_data"
    }
   ],
   "source": [
    "import h2o\n",
    "from h2o.automl import H2OAutoML\n",
    "\n",
    "# Start the H2O cluster (locally)\n",
    "h2o.init()\n",
    "\n",
    "#h2o.demo(\"glm\")     #not possibile to run the demo on jupyter notebook but on python terminal\n",
    "\n"
   ]
  },
  {
   "cell_type": "code",
   "execution_count": 2,
   "metadata": {},
   "outputs": [
    {
     "name": "stdout",
     "output_type": "stream",
     "text": [
      "Parse progress: |████████████████████████████████████████████████████████████████| (done) 100%\n"
     ]
    }
   ],
   "source": [
    "training=h2o.upload_file(\"/Home/DEF/4/J1040904/Desktop/Projects/Data science/Basement project/Python/AutoML H2O/Final run v3/training.csv\")"
   ]
  },
  {
   "cell_type": "code",
   "execution_count": 3,
   "metadata": {},
   "outputs": [
    {
     "name": "stdout",
     "output_type": "stream",
     "text": [
      "Rows:461\n",
      "Cols:14\n",
      "\n",
      "\n"
     ]
    },
    {
     "data": {
      "text/html": [
       "<table>\n",
       "<thead>\n",
       "<tr><th>       </th><th>ÃƒÆ’Ã‚Â¯Ãƒâ€šÃ‚Â»Ãƒâ€šÃ‚Â¿well_name  </th><th>long              </th><th>lat                </th><th>augila            </th><th>gialo            </th><th>gir              </th><th>zelten            </th><th>kalash           </th><th>sirte             </th><th>nubian            </th><th>gargaf           </th><th>basement          </th><th>seebase            </th><th>sub-basin                    </th></tr>\n",
       "</thead>\n",
       "<tbody>\n",
       "<tr><td>type   </td><td>string                               </td><td>real              </td><td>real               </td><td>real              </td><td>real             </td><td>real             </td><td>real              </td><td>real             </td><td>real              </td><td>real              </td><td>real             </td><td>real              </td><td>real               </td><td>enum                         </td></tr>\n",
       "<tr><td>mins   </td><td>NaN                                  </td><td>17.179581         </td><td>27.022159          </td><td>22.95781517       </td><td>169.5409656      </td><td>320.9156303      </td><td>73.14679347       </td><td>14.8585          </td><td>19.2              </td><td>0.509335          </td><td>3.82149          </td><td>-4360.180444      </td><td>-4875.423677       </td><td>                             </td></tr>\n",
       "<tr><td>mean   </td><td>NaN                                  </td><td>20.84880624130436 </td><td>28.2409778673913   </td><td>84.40244558556526 </td><td>401.2414787495651</td><td>516.0481603091304</td><td>143.15191549452175</td><td>81.46145043478266</td><td>133.08618219130446</td><td>158.47375690652183</td><td>70.7664936086957 </td><td>-2511.615843978264</td><td>-2580.7679993304323</td><td>                             </td></tr>\n",
       "<tr><td>maxs   </td><td>NaN                                  </td><td>23.676663         </td><td>29.572467          </td><td>147.9700073       </td><td>640.5937576      </td><td>728.374177       </td><td>206.7392099       </td><td>238.561          </td><td>288.0             </td><td>811.719           </td><td>284.864          </td><td>-1277.115338      </td><td>-1202.990124       </td><td>                             </td></tr>\n",
       "<tr><td>sigma  </td><td>NaN                                  </td><td>1.2057269210996613</td><td>0.45547182493971167</td><td>20.405969568793715</td><td>76.57849691956541</td><td>70.57488019354044</td><td>27.612292128505974</td><td>57.86808531870987</td><td>39.943935189441966</td><td>160.87830331471852</td><td>36.47648186163212</td><td>657.6448701634083 </td><td>683.1700867638465  </td><td>                             </td></tr>\n",
       "<tr><td>zeros  </td><td>0                                    </td><td>0                 </td><td>0                  </td><td>0                 </td><td>0                </td><td>0                </td><td>0                 </td><td>0                </td><td>0                 </td><td>0                 </td><td>0                </td><td>0                 </td><td>0                  </td><td>                             </td></tr>\n",
       "<tr><td>missing</td><td>0                                    </td><td>1                 </td><td>1                  </td><td>1                 </td><td>1                </td><td>1                </td><td>1                 </td><td>1                </td><td>1                 </td><td>1                 </td><td>1                </td><td>1                 </td><td>1                  </td><td>0                            </td></tr>\n",
       "<tr><td>0      </td><td>ï»¿well_name                         </td><td>nan               </td><td>nan                </td><td>nan               </td><td>nan              </td><td>nan              </td><td>nan               </td><td>nan              </td><td>nan               </td><td>nan               </td><td>nan              </td><td>nan               </td><td>nan                </td><td>sub-basin                    </td></tr>\n",
       "<tr><td>1      </td><td>A112-59                              </td><td>19.939477         </td><td>28.244816          </td><td>85.01280176       </td><td>383.223604       </td><td>503.6942209      </td><td>195.9308705       </td><td>38.7761          </td><td>132.26            </td><td>3.6991            </td><td>65.0583          </td><td>-1862.716411      </td><td>-1862.088515       </td><td>Zelten Platform (Sirte Basin)</td></tr>\n",
       "<tr><td>2      </td><td>A114-59                              </td><td>19.933366         </td><td>28.244816          </td><td>85.03108998       </td><td>380.2548159      </td><td>504.276396       </td><td>196.2692026       </td><td>38.7761          </td><td>132.26            </td><td>3.6991            </td><td>76.0167          </td><td>-1861.734943      </td><td>-1823.66496        </td><td>Zelten Platform (Sirte Basin)</td></tr>\n",
       "<tr><td>3      </td><td>A115-59                              </td><td>19.850307         </td><td>28.43343           </td><td>85.82662765       </td><td>403.6088759      </td><td>541.9135577      </td><td>199.3507681       </td><td>42.623           </td><td>132.26            </td><td>10.6153           </td><td>58.7833          </td><td>-2069.403804      </td><td>-2152.913923       </td><td>Zelten Platform (Sirte Basin)</td></tr>\n",
       "<tr><td>4      </td><td>A117-59                              </td><td>19.861976         </td><td>28.177872          </td><td>82.99195318       </td><td>377.1122897      </td><td>507.4494026      </td><td>189.2709095       </td><td>95.407           </td><td>132.26            </td><td>7.92439           </td><td>81.6167          </td><td>-1889.307486      </td><td>-2002.96574        </td><td>Zelten Platform (Sirte Basin)</td></tr>\n",
       "<tr><td>5      </td><td>A118-59                              </td><td>19.861976         </td><td>28.186206          </td><td>88.6186296        </td><td>381.6233845      </td><td>508.2632285      </td><td>186.9635455       </td><td>76.2454          </td><td>132.26            </td><td>7.92439           </td><td>81.6167          </td><td>-1895.662643      </td><td>-2026.563643       </td><td>Zelten Platform (Sirte Basin)</td></tr>\n",
       "<tr><td>6      </td><td>A119-59                              </td><td>19.853642         </td><td>28.219539          </td><td>78.69422092       </td><td>385.9942697      </td><td>511.6465496      </td><td>187.4298951       </td><td>83.3307          </td><td>132.26            </td><td>2.3342            </td><td>77.9             </td><td>-1920.199342      </td><td>-2094.675079       </td><td>Zelten Platform (Sirte Basin)</td></tr>\n",
       "<tr><td>7      </td><td>A121-59                              </td><td>19.90142          </td><td>28.244538          </td><td>72.31772738       </td><td>380.0597415      </td><td>508.8911241      </td><td>197.9090466       </td><td>38.2757          </td><td>132.26            </td><td>7.99706           </td><td>76.0167          </td><td>-1883.613753      </td><td>-1780.648013       </td><td>Zelten Platform (Sirte Basin)</td></tr>\n",
       "<tr><td>8      </td><td>A123-59                              </td><td>19.899477         </td><td>28.198704          </td><td>82.13240673       </td><td>381.4069739      </td><td>504.5385272      </td><td>186.2442087       </td><td>44.8121          </td><td>132.26            </td><td>3.05292           </td><td>76.0167          </td><td>-1872.494514      </td><td>-1861.52158        </td><td>Zelten Platform (Sirte Basin)</td></tr>\n",
       "<tr><td>9      </td><td>A124-59                              </td><td>19.924477         </td><td>28.28204           </td><td>83.63813704       </td><td>372.9852475      </td><td>510.363326       </td><td>196.9885394       </td><td>14.8585          </td><td>132.26            </td><td>13.7471           </td><td>65.0583          </td><td>-1870.226774      </td><td>-1889.033163       </td><td>Zelten Platform (Sirte Basin)</td></tr>\n",
       "</tbody>\n",
       "</table>"
      ]
     },
     "metadata": {},
     "output_type": "display_data"
    }
   ],
   "source": [
    "training.describe()"
   ]
  },
  {
   "cell_type": "code",
   "execution_count": 4,
   "metadata": {},
   "outputs": [],
   "source": [
    "# Identify predictors (features x) and response (target y)\n",
    "# if all the columns will be used except the response as predictors, it can be avoided to set the `x` argument explicitly.\n",
    "\n",
    "x = ['long','lat','augila','gialo','gir','zelten','kalash','sirte','nubian','gargaf','seebase','sub-basin']\n",
    "y = \"basement\"\n"
   ]
  },
  {
   "cell_type": "code",
   "execution_count": 5,
   "metadata": {},
   "outputs": [],
   "source": [
    "#let's split the data into two frames, a `train` (70%) and a `test` frame (30%).  \n",
    "#The `test` frame will be used to score the leaderboard and to demonstrate how to generate predictions using an AutoML leader model.\n",
    "\n",
    "train, test = training.split_frame(ratios = [.7], seed = 1234)"
   ]
  },
  {
   "cell_type": "markdown",
   "metadata": {},
   "source": [
    "## Run AutoML for training"
   ]
  },
  {
   "cell_type": "code",
   "execution_count": 6,
   "metadata": {},
   "outputs": [
    {
     "name": "stdout",
     "output_type": "stream",
     "text": [
      "AutoML progress: |\n",
      "15:14:32.423: AutoML: XGBoost is not available; skipping it.\n",
      "15:14:32.444: Step 'best_of_family_xgboost' not defined in provider 'StackedEnsemble': skipping it.\n",
      "15:14:32.445: Step 'all_xgboost' not defined in provider 'StackedEnsemble': skipping it.\n",
      "\n",
      "███████████████████████████████████████████████████████████████| (done) 100%\n",
      "Model Details\n",
      "=============\n",
      "H2OGradientBoostingEstimator :  Gradient Boosting Machine\n",
      "Model Key:  GBM_grid_1_AutoML_1_20220110_151432_model_12\n",
      "\n",
      "\n",
      "Model Summary: \n"
     ]
    },
    {
     "data": {
      "text/html": [
       "<div>\n",
       "<style scoped>\n",
       "    .dataframe tbody tr th:only-of-type {\n",
       "        vertical-align: middle;\n",
       "    }\n",
       "\n",
       "    .dataframe tbody tr th {\n",
       "        vertical-align: top;\n",
       "    }\n",
       "\n",
       "    .dataframe thead th {\n",
       "        text-align: right;\n",
       "    }\n",
       "</style>\n",
       "<table border=\"1\" class=\"dataframe\">\n",
       "  <thead>\n",
       "    <tr style=\"text-align: right;\">\n",
       "      <th></th>\n",
       "      <th></th>\n",
       "      <th>number_of_trees</th>\n",
       "      <th>number_of_internal_trees</th>\n",
       "      <th>model_size_in_bytes</th>\n",
       "      <th>min_depth</th>\n",
       "      <th>max_depth</th>\n",
       "      <th>mean_depth</th>\n",
       "      <th>min_leaves</th>\n",
       "      <th>max_leaves</th>\n",
       "      <th>mean_leaves</th>\n",
       "    </tr>\n",
       "  </thead>\n",
       "  <tbody>\n",
       "    <tr>\n",
       "      <th>0</th>\n",
       "      <td></td>\n",
       "      <td>54.0</td>\n",
       "      <td>54.0</td>\n",
       "      <td>23094.0</td>\n",
       "      <td>7.0</td>\n",
       "      <td>7.0</td>\n",
       "      <td>7.0</td>\n",
       "      <td>15.0</td>\n",
       "      <td>45.0</td>\n",
       "      <td>29.351852</td>\n",
       "    </tr>\n",
       "  </tbody>\n",
       "</table>\n",
       "</div>"
      ],
      "text/plain": [
       "     number_of_trees  number_of_internal_trees  model_size_in_bytes  \\\n",
       "0               54.0                      54.0              23094.0   \n",
       "\n",
       "   min_depth  max_depth  mean_depth  min_leaves  max_leaves  mean_leaves  \n",
       "0        7.0        7.0         7.0        15.0        45.0    29.351852  "
      ]
     },
     "metadata": {},
     "output_type": "display_data"
    },
    {
     "name": "stdout",
     "output_type": "stream",
     "text": [
      "\n",
      "\n",
      "ModelMetricsRegression: gbm\n",
      "** Reported on train data. **\n",
      "\n",
      "MSE: 568.9083691165514\n",
      "RMSE: 23.851800123188845\n",
      "MAE: 15.828497006560646\n",
      "RMSLE: NaN\n",
      "Mean Residual Deviance: 568.9083691165514\n",
      "\n",
      "ModelMetricsRegression: gbm\n",
      "** Reported on cross-validation data. **\n",
      "\n",
      "MSE: 18591.428800316273\n",
      "RMSE: 136.3503898062498\n",
      "MAE: 80.91685958834542\n",
      "RMSLE: NaN\n",
      "Mean Residual Deviance: 18591.428800316273\n",
      "\n",
      "Cross-Validation Metrics Summary: \n"
     ]
    },
    {
     "data": {
      "text/html": [
       "<div>\n",
       "<style scoped>\n",
       "    .dataframe tbody tr th:only-of-type {\n",
       "        vertical-align: middle;\n",
       "    }\n",
       "\n",
       "    .dataframe tbody tr th {\n",
       "        vertical-align: top;\n",
       "    }\n",
       "\n",
       "    .dataframe thead th {\n",
       "        text-align: right;\n",
       "    }\n",
       "</style>\n",
       "<table border=\"1\" class=\"dataframe\">\n",
       "  <thead>\n",
       "    <tr style=\"text-align: right;\">\n",
       "      <th></th>\n",
       "      <th></th>\n",
       "      <th>mean</th>\n",
       "      <th>sd</th>\n",
       "      <th>cv_1_valid</th>\n",
       "      <th>cv_2_valid</th>\n",
       "      <th>cv_3_valid</th>\n",
       "      <th>cv_4_valid</th>\n",
       "      <th>cv_5_valid</th>\n",
       "    </tr>\n",
       "  </thead>\n",
       "  <tbody>\n",
       "    <tr>\n",
       "      <th>0</th>\n",
       "      <td>mae</td>\n",
       "      <td>80.445810</td>\n",
       "      <td>9.788828</td>\n",
       "      <td>86.500250</td>\n",
       "      <td>72.060585</td>\n",
       "      <td>81.081220</td>\n",
       "      <td>69.578636</td>\n",
       "      <td>93.00834</td>\n",
       "    </tr>\n",
       "    <tr>\n",
       "      <th>1</th>\n",
       "      <td>mean_residual_deviance</td>\n",
       "      <td>18613.310000</td>\n",
       "      <td>2946.500700</td>\n",
       "      <td>17962.205000</td>\n",
       "      <td>14689.858000</td>\n",
       "      <td>21986.021000</td>\n",
       "      <td>17368.610000</td>\n",
       "      <td>21059.85700</td>\n",
       "    </tr>\n",
       "    <tr>\n",
       "      <th>2</th>\n",
       "      <td>mse</td>\n",
       "      <td>18613.310000</td>\n",
       "      <td>2946.500700</td>\n",
       "      <td>17962.205000</td>\n",
       "      <td>14689.858000</td>\n",
       "      <td>21986.021000</td>\n",
       "      <td>17368.610000</td>\n",
       "      <td>21059.85700</td>\n",
       "    </tr>\n",
       "    <tr>\n",
       "      <th>3</th>\n",
       "      <td>r2</td>\n",
       "      <td>0.955677</td>\n",
       "      <td>0.012034</td>\n",
       "      <td>0.964971</td>\n",
       "      <td>0.969592</td>\n",
       "      <td>0.943263</td>\n",
       "      <td>0.943689</td>\n",
       "      <td>0.95687</td>\n",
       "    </tr>\n",
       "    <tr>\n",
       "      <th>4</th>\n",
       "      <td>residual_deviance</td>\n",
       "      <td>18613.310000</td>\n",
       "      <td>2946.500700</td>\n",
       "      <td>17962.205000</td>\n",
       "      <td>14689.858000</td>\n",
       "      <td>21986.021000</td>\n",
       "      <td>17368.610000</td>\n",
       "      <td>21059.85700</td>\n",
       "    </tr>\n",
       "    <tr>\n",
       "      <th>5</th>\n",
       "      <td>rmse</td>\n",
       "      <td>136.082380</td>\n",
       "      <td>10.891336</td>\n",
       "      <td>134.023150</td>\n",
       "      <td>121.201730</td>\n",
       "      <td>148.276840</td>\n",
       "      <td>131.790020</td>\n",
       "      <td>145.12015</td>\n",
       "    </tr>\n",
       "    <tr>\n",
       "      <th>6</th>\n",
       "      <td>rmsle</td>\n",
       "      <td>NaN</td>\n",
       "      <td>0.000000</td>\n",
       "      <td>NaN</td>\n",
       "      <td>NaN</td>\n",
       "      <td>NaN</td>\n",
       "      <td>NaN</td>\n",
       "      <td>NaN</td>\n",
       "    </tr>\n",
       "  </tbody>\n",
       "</table>\n",
       "</div>"
      ],
      "text/plain": [
       "                                   mean           sd    cv_1_valid  \\\n",
       "0                     mae     80.445810     9.788828     86.500250   \n",
       "1  mean_residual_deviance  18613.310000  2946.500700  17962.205000   \n",
       "2                     mse  18613.310000  2946.500700  17962.205000   \n",
       "3                      r2      0.955677     0.012034      0.964971   \n",
       "4       residual_deviance  18613.310000  2946.500700  17962.205000   \n",
       "5                    rmse    136.082380    10.891336    134.023150   \n",
       "6                   rmsle           NaN     0.000000           NaN   \n",
       "\n",
       "     cv_2_valid    cv_3_valid    cv_4_valid   cv_5_valid  \n",
       "0     72.060585     81.081220     69.578636     93.00834  \n",
       "1  14689.858000  21986.021000  17368.610000  21059.85700  \n",
       "2  14689.858000  21986.021000  17368.610000  21059.85700  \n",
       "3      0.969592      0.943263      0.943689      0.95687  \n",
       "4  14689.858000  21986.021000  17368.610000  21059.85700  \n",
       "5    121.201730    148.276840    131.790020    145.12015  \n",
       "6           NaN           NaN           NaN          NaN  "
      ]
     },
     "metadata": {},
     "output_type": "display_data"
    },
    {
     "name": "stdout",
     "output_type": "stream",
     "text": [
      "\n",
      "Scoring History: \n"
     ]
    },
    {
     "data": {
      "text/html": [
       "<div>\n",
       "<style scoped>\n",
       "    .dataframe tbody tr th:only-of-type {\n",
       "        vertical-align: middle;\n",
       "    }\n",
       "\n",
       "    .dataframe tbody tr th {\n",
       "        vertical-align: top;\n",
       "    }\n",
       "\n",
       "    .dataframe thead th {\n",
       "        text-align: right;\n",
       "    }\n",
       "</style>\n",
       "<table border=\"1\" class=\"dataframe\">\n",
       "  <thead>\n",
       "    <tr style=\"text-align: right;\">\n",
       "      <th></th>\n",
       "      <th></th>\n",
       "      <th>timestamp</th>\n",
       "      <th>duration</th>\n",
       "      <th>number_of_trees</th>\n",
       "      <th>training_rmse</th>\n",
       "      <th>training_mae</th>\n",
       "      <th>training_deviance</th>\n",
       "    </tr>\n",
       "  </thead>\n",
       "  <tbody>\n",
       "    <tr>\n",
       "      <th>0</th>\n",
       "      <td></td>\n",
       "      <td>2022-01-10 15:14:49</td>\n",
       "      <td>2.877 sec</td>\n",
       "      <td>0.0</td>\n",
       "      <td>664.771955</td>\n",
       "      <td>584.011120</td>\n",
       "      <td>441921.752321</td>\n",
       "    </tr>\n",
       "    <tr>\n",
       "      <th>1</th>\n",
       "      <td></td>\n",
       "      <td>2022-01-10 15:14:49</td>\n",
       "      <td>2.886 sec</td>\n",
       "      <td>5.0</td>\n",
       "      <td>399.885602</td>\n",
       "      <td>349.457053</td>\n",
       "      <td>159908.494658</td>\n",
       "    </tr>\n",
       "    <tr>\n",
       "      <th>2</th>\n",
       "      <td></td>\n",
       "      <td>2022-01-10 15:14:49</td>\n",
       "      <td>2.894 sec</td>\n",
       "      <td>10.0</td>\n",
       "      <td>244.036834</td>\n",
       "      <td>210.999358</td>\n",
       "      <td>59553.976535</td>\n",
       "    </tr>\n",
       "    <tr>\n",
       "      <th>3</th>\n",
       "      <td></td>\n",
       "      <td>2022-01-10 15:14:49</td>\n",
       "      <td>2.902 sec</td>\n",
       "      <td>15.0</td>\n",
       "      <td>151.821270</td>\n",
       "      <td>129.260660</td>\n",
       "      <td>23049.698095</td>\n",
       "    </tr>\n",
       "    <tr>\n",
       "      <th>4</th>\n",
       "      <td></td>\n",
       "      <td>2022-01-10 15:14:49</td>\n",
       "      <td>2.910 sec</td>\n",
       "      <td>20.0</td>\n",
       "      <td>98.204110</td>\n",
       "      <td>81.271659</td>\n",
       "      <td>9644.047156</td>\n",
       "    </tr>\n",
       "    <tr>\n",
       "      <th>5</th>\n",
       "      <td></td>\n",
       "      <td>2022-01-10 15:14:49</td>\n",
       "      <td>2.918 sec</td>\n",
       "      <td>25.0</td>\n",
       "      <td>68.115834</td>\n",
       "      <td>54.143391</td>\n",
       "      <td>4639.766868</td>\n",
       "    </tr>\n",
       "    <tr>\n",
       "      <th>6</th>\n",
       "      <td></td>\n",
       "      <td>2022-01-10 15:14:49</td>\n",
       "      <td>2.925 sec</td>\n",
       "      <td>30.0</td>\n",
       "      <td>50.663367</td>\n",
       "      <td>38.486958</td>\n",
       "      <td>2566.776718</td>\n",
       "    </tr>\n",
       "    <tr>\n",
       "      <th>7</th>\n",
       "      <td></td>\n",
       "      <td>2022-01-10 15:14:49</td>\n",
       "      <td>2.931 sec</td>\n",
       "      <td>35.0</td>\n",
       "      <td>40.783865</td>\n",
       "      <td>29.494412</td>\n",
       "      <td>1663.323677</td>\n",
       "    </tr>\n",
       "    <tr>\n",
       "      <th>8</th>\n",
       "      <td></td>\n",
       "      <td>2022-01-10 15:14:49</td>\n",
       "      <td>2.937 sec</td>\n",
       "      <td>40.0</td>\n",
       "      <td>34.758879</td>\n",
       "      <td>24.387104</td>\n",
       "      <td>1208.179672</td>\n",
       "    </tr>\n",
       "    <tr>\n",
       "      <th>9</th>\n",
       "      <td></td>\n",
       "      <td>2022-01-10 15:14:49</td>\n",
       "      <td>2.944 sec</td>\n",
       "      <td>45.0</td>\n",
       "      <td>30.197854</td>\n",
       "      <td>20.437967</td>\n",
       "      <td>911.910364</td>\n",
       "    </tr>\n",
       "    <tr>\n",
       "      <th>10</th>\n",
       "      <td></td>\n",
       "      <td>2022-01-10 15:14:49</td>\n",
       "      <td>2.950 sec</td>\n",
       "      <td>50.0</td>\n",
       "      <td>26.037697</td>\n",
       "      <td>17.321817</td>\n",
       "      <td>677.961673</td>\n",
       "    </tr>\n",
       "    <tr>\n",
       "      <th>11</th>\n",
       "      <td></td>\n",
       "      <td>2022-01-10 15:14:49</td>\n",
       "      <td>2.955 sec</td>\n",
       "      <td>54.0</td>\n",
       "      <td>23.851800</td>\n",
       "      <td>15.828497</td>\n",
       "      <td>568.908369</td>\n",
       "    </tr>\n",
       "  </tbody>\n",
       "</table>\n",
       "</div>"
      ],
      "text/plain": [
       "                timestamp    duration  number_of_trees  training_rmse  \\\n",
       "0     2022-01-10 15:14:49   2.877 sec              0.0     664.771955   \n",
       "1     2022-01-10 15:14:49   2.886 sec              5.0     399.885602   \n",
       "2     2022-01-10 15:14:49   2.894 sec             10.0     244.036834   \n",
       "3     2022-01-10 15:14:49   2.902 sec             15.0     151.821270   \n",
       "4     2022-01-10 15:14:49   2.910 sec             20.0      98.204110   \n",
       "5     2022-01-10 15:14:49   2.918 sec             25.0      68.115834   \n",
       "6     2022-01-10 15:14:49   2.925 sec             30.0      50.663367   \n",
       "7     2022-01-10 15:14:49   2.931 sec             35.0      40.783865   \n",
       "8     2022-01-10 15:14:49   2.937 sec             40.0      34.758879   \n",
       "9     2022-01-10 15:14:49   2.944 sec             45.0      30.197854   \n",
       "10    2022-01-10 15:14:49   2.950 sec             50.0      26.037697   \n",
       "11    2022-01-10 15:14:49   2.955 sec             54.0      23.851800   \n",
       "\n",
       "    training_mae  training_deviance  \n",
       "0     584.011120      441921.752321  \n",
       "1     349.457053      159908.494658  \n",
       "2     210.999358       59553.976535  \n",
       "3     129.260660       23049.698095  \n",
       "4      81.271659        9644.047156  \n",
       "5      54.143391        4639.766868  \n",
       "6      38.486958        2566.776718  \n",
       "7      29.494412        1663.323677  \n",
       "8      24.387104        1208.179672  \n",
       "9      20.437967         911.910364  \n",
       "10     17.321817         677.961673  \n",
       "11     15.828497         568.908369  "
      ]
     },
     "metadata": {},
     "output_type": "display_data"
    },
    {
     "name": "stdout",
     "output_type": "stream",
     "text": [
      "\n",
      "Variable Importances: \n"
     ]
    },
    {
     "data": {
      "text/html": [
       "<div>\n",
       "<style scoped>\n",
       "    .dataframe tbody tr th:only-of-type {\n",
       "        vertical-align: middle;\n",
       "    }\n",
       "\n",
       "    .dataframe tbody tr th {\n",
       "        vertical-align: top;\n",
       "    }\n",
       "\n",
       "    .dataframe thead th {\n",
       "        text-align: right;\n",
       "    }\n",
       "</style>\n",
       "<table border=\"1\" class=\"dataframe\">\n",
       "  <thead>\n",
       "    <tr style=\"text-align: right;\">\n",
       "      <th></th>\n",
       "      <th>variable</th>\n",
       "      <th>relative_importance</th>\n",
       "      <th>scaled_importance</th>\n",
       "      <th>percentage</th>\n",
       "    </tr>\n",
       "  </thead>\n",
       "  <tbody>\n",
       "    <tr>\n",
       "      <th>0</th>\n",
       "      <td>seebase</td>\n",
       "      <td>6.302261e+08</td>\n",
       "      <td>1.000000</td>\n",
       "      <td>0.805072</td>\n",
       "    </tr>\n",
       "    <tr>\n",
       "      <th>1</th>\n",
       "      <td>nubian</td>\n",
       "      <td>7.069534e+07</td>\n",
       "      <td>0.112175</td>\n",
       "      <td>0.090309</td>\n",
       "    </tr>\n",
       "    <tr>\n",
       "      <th>2</th>\n",
       "      <td>long</td>\n",
       "      <td>3.034844e+07</td>\n",
       "      <td>0.048155</td>\n",
       "      <td>0.038768</td>\n",
       "    </tr>\n",
       "    <tr>\n",
       "      <th>3</th>\n",
       "      <td>sub-basin</td>\n",
       "      <td>1.580874e+07</td>\n",
       "      <td>0.025084</td>\n",
       "      <td>0.020195</td>\n",
       "    </tr>\n",
       "    <tr>\n",
       "      <th>4</th>\n",
       "      <td>gialo</td>\n",
       "      <td>9.230778e+06</td>\n",
       "      <td>0.014647</td>\n",
       "      <td>0.011792</td>\n",
       "    </tr>\n",
       "    <tr>\n",
       "      <th>5</th>\n",
       "      <td>kalash</td>\n",
       "      <td>8.476914e+06</td>\n",
       "      <td>0.013451</td>\n",
       "      <td>0.010829</td>\n",
       "    </tr>\n",
       "    <tr>\n",
       "      <th>6</th>\n",
       "      <td>augila</td>\n",
       "      <td>5.501528e+06</td>\n",
       "      <td>0.008729</td>\n",
       "      <td>0.007028</td>\n",
       "    </tr>\n",
       "    <tr>\n",
       "      <th>7</th>\n",
       "      <td>gir</td>\n",
       "      <td>3.528108e+06</td>\n",
       "      <td>0.005598</td>\n",
       "      <td>0.004507</td>\n",
       "    </tr>\n",
       "    <tr>\n",
       "      <th>8</th>\n",
       "      <td>sirte</td>\n",
       "      <td>2.874042e+06</td>\n",
       "      <td>0.004560</td>\n",
       "      <td>0.003671</td>\n",
       "    </tr>\n",
       "    <tr>\n",
       "      <th>9</th>\n",
       "      <td>gargaf</td>\n",
       "      <td>2.510336e+06</td>\n",
       "      <td>0.003983</td>\n",
       "      <td>0.003207</td>\n",
       "    </tr>\n",
       "    <tr>\n",
       "      <th>10</th>\n",
       "      <td>lat</td>\n",
       "      <td>2.202297e+06</td>\n",
       "      <td>0.003494</td>\n",
       "      <td>0.002813</td>\n",
       "    </tr>\n",
       "    <tr>\n",
       "      <th>11</th>\n",
       "      <td>zelten</td>\n",
       "      <td>1.417238e+06</td>\n",
       "      <td>0.002249</td>\n",
       "      <td>0.001810</td>\n",
       "    </tr>\n",
       "  </tbody>\n",
       "</table>\n",
       "</div>"
      ],
      "text/plain": [
       "     variable  relative_importance  scaled_importance  percentage\n",
       "0     seebase         6.302261e+08           1.000000    0.805072\n",
       "1      nubian         7.069534e+07           0.112175    0.090309\n",
       "2        long         3.034844e+07           0.048155    0.038768\n",
       "3   sub-basin         1.580874e+07           0.025084    0.020195\n",
       "4       gialo         9.230778e+06           0.014647    0.011792\n",
       "5      kalash         8.476914e+06           0.013451    0.010829\n",
       "6      augila         5.501528e+06           0.008729    0.007028\n",
       "7         gir         3.528108e+06           0.005598    0.004507\n",
       "8       sirte         2.874042e+06           0.004560    0.003671\n",
       "9      gargaf         2.510336e+06           0.003983    0.003207\n",
       "10        lat         2.202297e+06           0.003494    0.002813\n",
       "11     zelten         1.417238e+06           0.002249    0.001810"
      ]
     },
     "metadata": {},
     "output_type": "display_data"
    },
    {
     "data": {
      "text/plain": []
     },
     "execution_count": 6,
     "metadata": {},
     "output_type": "execute_result"
    }
   ],
   "source": [
    "#AutoML\n",
    "\n",
    "\n",
    "aml = H2OAutoML(max_runtime_secs = 60, seed = 1, project_name = \"basement1\")\n",
    "aml.train(x=x, y = y, training_frame = train, leaderboard_frame = test)"
   ]
  },
  {
   "cell_type": "code",
   "execution_count": 7,
   "metadata": {},
   "outputs": [
    {
     "data": {
      "text/html": [
       "<table>\n",
       "<thead>\n",
       "<tr><th>model_id                                               </th><th style=\"text-align: right;\">  mean_residual_deviance</th><th style=\"text-align: right;\">   rmse</th><th style=\"text-align: right;\">    mse</th><th style=\"text-align: right;\">    mae</th><th style=\"text-align: right;\">  rmsle</th></tr>\n",
       "</thead>\n",
       "<tbody>\n",
       "<tr><td>GBM_grid_1_AutoML_1_20220110_151432_model_12           </td><td style=\"text-align: right;\">                 12751.6</td><td style=\"text-align: right;\">112.923</td><td style=\"text-align: right;\">12751.6</td><td style=\"text-align: right;\">75.73  </td><td style=\"text-align: right;\">    nan</td></tr>\n",
       "<tr><td>StackedEnsemble_BestOfFamily_4_AutoML_1_20220110_151432</td><td style=\"text-align: right;\">                 12973  </td><td style=\"text-align: right;\">113.899</td><td style=\"text-align: right;\">12973  </td><td style=\"text-align: right;\">77.1096</td><td style=\"text-align: right;\">    nan</td></tr>\n",
       "<tr><td>GBM_grid_1_AutoML_1_20220110_151432_model_74           </td><td style=\"text-align: right;\">                 13353.8</td><td style=\"text-align: right;\">115.559</td><td style=\"text-align: right;\">13353.8</td><td style=\"text-align: right;\">73.4662</td><td style=\"text-align: right;\">    nan</td></tr>\n",
       "<tr><td>GBM_grid_1_AutoML_1_20220110_151432_model_87           </td><td style=\"text-align: right;\">                 13634.8</td><td style=\"text-align: right;\">116.768</td><td style=\"text-align: right;\">13634.8</td><td style=\"text-align: right;\">74.7907</td><td style=\"text-align: right;\">    nan</td></tr>\n",
       "<tr><td>GBM_grid_1_AutoML_1_20220110_151432_model_42           </td><td style=\"text-align: right;\">                 14258  </td><td style=\"text-align: right;\">119.407</td><td style=\"text-align: right;\">14258  </td><td style=\"text-align: right;\">75.9894</td><td style=\"text-align: right;\">    nan</td></tr>\n",
       "<tr><td>GBM_grid_1_AutoML_1_20220110_151432_model_76           </td><td style=\"text-align: right;\">                 14852.8</td><td style=\"text-align: right;\">121.872</td><td style=\"text-align: right;\">14852.8</td><td style=\"text-align: right;\">78.4139</td><td style=\"text-align: right;\">    nan</td></tr>\n",
       "<tr><td>StackedEnsemble_AllModels_2_AutoML_1_20220110_151432   </td><td style=\"text-align: right;\">                 14993.2</td><td style=\"text-align: right;\">122.447</td><td style=\"text-align: right;\">14993.2</td><td style=\"text-align: right;\">77.9356</td><td style=\"text-align: right;\">    nan</td></tr>\n",
       "<tr><td>StackedEnsemble_BestOfFamily_3_AutoML_1_20220110_151432</td><td style=\"text-align: right;\">                 15045.8</td><td style=\"text-align: right;\">122.661</td><td style=\"text-align: right;\">15045.8</td><td style=\"text-align: right;\">78.2831</td><td style=\"text-align: right;\">    nan</td></tr>\n",
       "<tr><td>GBM_grid_1_AutoML_1_20220110_151432_model_120          </td><td style=\"text-align: right;\">                 15079.4</td><td style=\"text-align: right;\">122.798</td><td style=\"text-align: right;\">15079.4</td><td style=\"text-align: right;\">82.0712</td><td style=\"text-align: right;\">    nan</td></tr>\n",
       "<tr><td>StackedEnsemble_BestOfFamily_2_AutoML_1_20220110_151432</td><td style=\"text-align: right;\">                 15382  </td><td style=\"text-align: right;\">124.024</td><td style=\"text-align: right;\">15382  </td><td style=\"text-align: right;\">78.3534</td><td style=\"text-align: right;\">    nan</td></tr>\n",
       "</tbody>\n",
       "</table>"
      ]
     },
     "metadata": {},
     "output_type": "display_data"
    },
    {
     "data": {
      "text/plain": []
     },
     "execution_count": 7,
     "metadata": {},
     "output_type": "execute_result"
    }
   ],
   "source": [
    "#to display just the first 10 models\n",
    "aml.leaderboard.head()"
   ]
  },
  {
   "cell_type": "code",
   "execution_count": 8,
   "metadata": {},
   "outputs": [
    {
     "data": {
      "text/html": [
       "<table>\n",
       "<thead>\n",
       "<tr><th>model_id                                               </th><th style=\"text-align: right;\">  mean_residual_deviance</th><th style=\"text-align: right;\">   rmse</th><th style=\"text-align: right;\">     mse</th><th style=\"text-align: right;\">     mae</th><th style=\"text-align: right;\">  rmsle</th></tr>\n",
       "</thead>\n",
       "<tbody>\n",
       "<tr><td>GBM_grid_1_AutoML_1_20220110_151432_model_12           </td><td style=\"text-align: right;\">                 12751.6</td><td style=\"text-align: right;\">112.923</td><td style=\"text-align: right;\"> 12751.6</td><td style=\"text-align: right;\"> 75.73  </td><td style=\"text-align: right;\">    nan</td></tr>\n",
       "<tr><td>StackedEnsemble_BestOfFamily_4_AutoML_1_20220110_151432</td><td style=\"text-align: right;\">                 12973  </td><td style=\"text-align: right;\">113.899</td><td style=\"text-align: right;\"> 12973  </td><td style=\"text-align: right;\"> 77.1096</td><td style=\"text-align: right;\">    nan</td></tr>\n",
       "<tr><td>GBM_grid_1_AutoML_1_20220110_151432_model_74           </td><td style=\"text-align: right;\">                 13353.8</td><td style=\"text-align: right;\">115.559</td><td style=\"text-align: right;\"> 13353.8</td><td style=\"text-align: right;\"> 73.4662</td><td style=\"text-align: right;\">    nan</td></tr>\n",
       "<tr><td>GBM_grid_1_AutoML_1_20220110_151432_model_87           </td><td style=\"text-align: right;\">                 13634.8</td><td style=\"text-align: right;\">116.768</td><td style=\"text-align: right;\"> 13634.8</td><td style=\"text-align: right;\"> 74.7907</td><td style=\"text-align: right;\">    nan</td></tr>\n",
       "<tr><td>GBM_grid_1_AutoML_1_20220110_151432_model_42           </td><td style=\"text-align: right;\">                 14258  </td><td style=\"text-align: right;\">119.407</td><td style=\"text-align: right;\"> 14258  </td><td style=\"text-align: right;\"> 75.9894</td><td style=\"text-align: right;\">    nan</td></tr>\n",
       "<tr><td>GBM_grid_1_AutoML_1_20220110_151432_model_76           </td><td style=\"text-align: right;\">                 14852.8</td><td style=\"text-align: right;\">121.872</td><td style=\"text-align: right;\"> 14852.8</td><td style=\"text-align: right;\"> 78.4139</td><td style=\"text-align: right;\">    nan</td></tr>\n",
       "<tr><td>StackedEnsemble_AllModels_2_AutoML_1_20220110_151432   </td><td style=\"text-align: right;\">                 14993.2</td><td style=\"text-align: right;\">122.447</td><td style=\"text-align: right;\"> 14993.2</td><td style=\"text-align: right;\"> 77.9356</td><td style=\"text-align: right;\">    nan</td></tr>\n",
       "<tr><td>StackedEnsemble_BestOfFamily_3_AutoML_1_20220110_151432</td><td style=\"text-align: right;\">                 15045.8</td><td style=\"text-align: right;\">122.661</td><td style=\"text-align: right;\"> 15045.8</td><td style=\"text-align: right;\"> 78.2831</td><td style=\"text-align: right;\">    nan</td></tr>\n",
       "<tr><td>GBM_grid_1_AutoML_1_20220110_151432_model_120          </td><td style=\"text-align: right;\">                 15079.4</td><td style=\"text-align: right;\">122.798</td><td style=\"text-align: right;\"> 15079.4</td><td style=\"text-align: right;\"> 82.0712</td><td style=\"text-align: right;\">    nan</td></tr>\n",
       "<tr><td>StackedEnsemble_BestOfFamily_2_AutoML_1_20220110_151432</td><td style=\"text-align: right;\">                 15382  </td><td style=\"text-align: right;\">124.024</td><td style=\"text-align: right;\"> 15382  </td><td style=\"text-align: right;\"> 78.3534</td><td style=\"text-align: right;\">    nan</td></tr>\n",
       "<tr><td>StackedEnsemble_AllModels_1_AutoML_1_20220110_151432   </td><td style=\"text-align: right;\">                 15393.5</td><td style=\"text-align: right;\">124.071</td><td style=\"text-align: right;\"> 15393.5</td><td style=\"text-align: right;\"> 78.4735</td><td style=\"text-align: right;\">    nan</td></tr>\n",
       "<tr><td>GBM_5_AutoML_1_20220110_151432                         </td><td style=\"text-align: right;\">                 15460  </td><td style=\"text-align: right;\">124.338</td><td style=\"text-align: right;\"> 15460  </td><td style=\"text-align: right;\"> 79.6236</td><td style=\"text-align: right;\">    nan</td></tr>\n",
       "<tr><td>GBM_grid_1_AutoML_1_20220110_151432_model_119          </td><td style=\"text-align: right;\">                 15579.7</td><td style=\"text-align: right;\">124.819</td><td style=\"text-align: right;\"> 15579.7</td><td style=\"text-align: right;\"> 82.3537</td><td style=\"text-align: right;\">    nan</td></tr>\n",
       "<tr><td>GBM_grid_1_AutoML_1_20220110_151432_model_2            </td><td style=\"text-align: right;\">                 15703.4</td><td style=\"text-align: right;\">125.313</td><td style=\"text-align: right;\"> 15703.4</td><td style=\"text-align: right;\"> 81.6174</td><td style=\"text-align: right;\">    nan</td></tr>\n",
       "<tr><td>DRF_1_AutoML_1_20220110_151432                         </td><td style=\"text-align: right;\">                 15820.3</td><td style=\"text-align: right;\">125.779</td><td style=\"text-align: right;\"> 15820.3</td><td style=\"text-align: right;\"> 75.4697</td><td style=\"text-align: right;\">    nan</td></tr>\n",
       "<tr><td>GBM_grid_1_AutoML_1_20220110_151432_model_75           </td><td style=\"text-align: right;\">                 16258.9</td><td style=\"text-align: right;\">127.51 </td><td style=\"text-align: right;\"> 16258.9</td><td style=\"text-align: right;\"> 83.1169</td><td style=\"text-align: right;\">    nan</td></tr>\n",
       "<tr><td>GBM_grid_1_AutoML_1_20220110_151432_model_102          </td><td style=\"text-align: right;\">                 16424.4</td><td style=\"text-align: right;\">128.158</td><td style=\"text-align: right;\"> 16424.4</td><td style=\"text-align: right;\"> 84.4999</td><td style=\"text-align: right;\">    nan</td></tr>\n",
       "<tr><td>GBM_grid_1_AutoML_1_20220110_151432_model_47           </td><td style=\"text-align: right;\">                 16457.7</td><td style=\"text-align: right;\">128.288</td><td style=\"text-align: right;\"> 16457.7</td><td style=\"text-align: right;\"> 80.6822</td><td style=\"text-align: right;\">    nan</td></tr>\n",
       "<tr><td>GBM_grid_1_AutoML_1_20220110_151432_model_58           </td><td style=\"text-align: right;\">                 16519.1</td><td style=\"text-align: right;\">128.526</td><td style=\"text-align: right;\"> 16519.1</td><td style=\"text-align: right;\"> 81.0653</td><td style=\"text-align: right;\">    nan</td></tr>\n",
       "<tr><td>GBM_grid_1_AutoML_1_20220110_151432_model_93           </td><td style=\"text-align: right;\">                 16601.2</td><td style=\"text-align: right;\">128.846</td><td style=\"text-align: right;\"> 16601.2</td><td style=\"text-align: right;\"> 79.4669</td><td style=\"text-align: right;\">    nan</td></tr>\n",
       "<tr><td>GBM_grid_1_AutoML_1_20220110_151432_model_23           </td><td style=\"text-align: right;\">                 16926.5</td><td style=\"text-align: right;\">130.102</td><td style=\"text-align: right;\"> 16926.5</td><td style=\"text-align: right;\"> 82.0048</td><td style=\"text-align: right;\">    nan</td></tr>\n",
       "<tr><td>GBM_grid_1_AutoML_1_20220110_151432_model_112          </td><td style=\"text-align: right;\">                 17059.2</td><td style=\"text-align: right;\">130.611</td><td style=\"text-align: right;\"> 17059.2</td><td style=\"text-align: right;\"> 86.7171</td><td style=\"text-align: right;\">    nan</td></tr>\n",
       "<tr><td>GBM_grid_1_AutoML_1_20220110_151432_model_35           </td><td style=\"text-align: right;\">                 17069  </td><td style=\"text-align: right;\">130.648</td><td style=\"text-align: right;\"> 17069  </td><td style=\"text-align: right;\"> 83.1933</td><td style=\"text-align: right;\">    nan</td></tr>\n",
       "<tr><td>GBM_grid_1_AutoML_1_20220110_151432_model_73           </td><td style=\"text-align: right;\">                 17078.9</td><td style=\"text-align: right;\">130.686</td><td style=\"text-align: right;\"> 17078.9</td><td style=\"text-align: right;\"> 83.5231</td><td style=\"text-align: right;\">    nan</td></tr>\n",
       "<tr><td>GBM_grid_1_AutoML_1_20220110_151432_model_21           </td><td style=\"text-align: right;\">                 17115.3</td><td style=\"text-align: right;\">130.825</td><td style=\"text-align: right;\"> 17115.3</td><td style=\"text-align: right;\"> 80.8402</td><td style=\"text-align: right;\">    nan</td></tr>\n",
       "<tr><td>GBM_grid_1_AutoML_1_20220110_151432_model_5            </td><td style=\"text-align: right;\">                 17236.5</td><td style=\"text-align: right;\">131.288</td><td style=\"text-align: right;\"> 17236.5</td><td style=\"text-align: right;\"> 84.9981</td><td style=\"text-align: right;\">    nan</td></tr>\n",
       "<tr><td>StackedEnsemble_AllModels_3_AutoML_1_20220110_151432   </td><td style=\"text-align: right;\">                 17360.6</td><td style=\"text-align: right;\">131.76 </td><td style=\"text-align: right;\"> 17360.6</td><td style=\"text-align: right;\"> 95.5266</td><td style=\"text-align: right;\">    nan</td></tr>\n",
       "<tr><td>GBM_grid_1_AutoML_1_20220110_151432_model_17           </td><td style=\"text-align: right;\">                 17518.4</td><td style=\"text-align: right;\">132.357</td><td style=\"text-align: right;\"> 17518.4</td><td style=\"text-align: right;\"> 83.945 </td><td style=\"text-align: right;\">    nan</td></tr>\n",
       "<tr><td>GBM_grid_1_AutoML_1_20220110_151432_model_50           </td><td style=\"text-align: right;\">                 17525.1</td><td style=\"text-align: right;\">132.383</td><td style=\"text-align: right;\"> 17525.1</td><td style=\"text-align: right;\"> 82.2336</td><td style=\"text-align: right;\">    nan</td></tr>\n",
       "<tr><td>GBM_grid_1_AutoML_1_20220110_151432_model_121          </td><td style=\"text-align: right;\">                 17532.7</td><td style=\"text-align: right;\">132.411</td><td style=\"text-align: right;\"> 17532.7</td><td style=\"text-align: right;\"> 84.4062</td><td style=\"text-align: right;\">    nan</td></tr>\n",
       "<tr><td>GBM_grid_1_AutoML_1_20220110_151432_model_59           </td><td style=\"text-align: right;\">                 17708.7</td><td style=\"text-align: right;\">133.074</td><td style=\"text-align: right;\"> 17708.7</td><td style=\"text-align: right;\"> 89.4366</td><td style=\"text-align: right;\">    nan</td></tr>\n",
       "<tr><td>GBM_2_AutoML_1_20220110_151432                         </td><td style=\"text-align: right;\">                 17848.6</td><td style=\"text-align: right;\">133.599</td><td style=\"text-align: right;\"> 17848.6</td><td style=\"text-align: right;\"> 86.0057</td><td style=\"text-align: right;\">    nan</td></tr>\n",
       "<tr><td>GBM_grid_1_AutoML_1_20220110_151432_model_51           </td><td style=\"text-align: right;\">                 17853.5</td><td style=\"text-align: right;\">133.617</td><td style=\"text-align: right;\"> 17853.5</td><td style=\"text-align: right;\"> 85.3814</td><td style=\"text-align: right;\">    nan</td></tr>\n",
       "<tr><td>GBM_grid_1_AutoML_1_20220110_151432_model_26           </td><td style=\"text-align: right;\">                 17884.5</td><td style=\"text-align: right;\">133.733</td><td style=\"text-align: right;\"> 17884.5</td><td style=\"text-align: right;\"> 87.8512</td><td style=\"text-align: right;\">    nan</td></tr>\n",
       "<tr><td>GBM_grid_1_AutoML_1_20220110_151432_model_43           </td><td style=\"text-align: right;\">                 17943.8</td><td style=\"text-align: right;\">133.955</td><td style=\"text-align: right;\"> 17943.8</td><td style=\"text-align: right;\"> 84.7116</td><td style=\"text-align: right;\">    nan</td></tr>\n",
       "<tr><td>GBM_grid_1_AutoML_1_20220110_151432_model_68           </td><td style=\"text-align: right;\">                 18090.8</td><td style=\"text-align: right;\">134.502</td><td style=\"text-align: right;\"> 18090.8</td><td style=\"text-align: right;\"> 88.8558</td><td style=\"text-align: right;\">    nan</td></tr>\n",
       "<tr><td>GBM_grid_1_AutoML_1_20220110_151432_model_89           </td><td style=\"text-align: right;\">                 18186.1</td><td style=\"text-align: right;\">134.856</td><td style=\"text-align: right;\"> 18186.1</td><td style=\"text-align: right;\"> 81.2126</td><td style=\"text-align: right;\">    nan</td></tr>\n",
       "<tr><td>GBM_grid_1_AutoML_1_20220110_151432_model_98           </td><td style=\"text-align: right;\">                 18319.7</td><td style=\"text-align: right;\">135.35 </td><td style=\"text-align: right;\"> 18319.7</td><td style=\"text-align: right;\"> 81.5992</td><td style=\"text-align: right;\">    nan</td></tr>\n",
       "<tr><td>GBM_3_AutoML_1_20220110_151432                         </td><td style=\"text-align: right;\">                 18390.8</td><td style=\"text-align: right;\">135.613</td><td style=\"text-align: right;\"> 18390.8</td><td style=\"text-align: right;\"> 84.8065</td><td style=\"text-align: right;\">    nan</td></tr>\n",
       "<tr><td>GBM_grid_1_AutoML_1_20220110_151432_model_96           </td><td style=\"text-align: right;\">                 18398.5</td><td style=\"text-align: right;\">135.641</td><td style=\"text-align: right;\"> 18398.5</td><td style=\"text-align: right;\"> 84.9188</td><td style=\"text-align: right;\">    nan</td></tr>\n",
       "<tr><td>GBM_grid_1_AutoML_1_20220110_151432_model_95           </td><td style=\"text-align: right;\">                 18524.4</td><td style=\"text-align: right;\">136.104</td><td style=\"text-align: right;\"> 18524.4</td><td style=\"text-align: right;\"> 87.0903</td><td style=\"text-align: right;\">    nan</td></tr>\n",
       "<tr><td>GBM_grid_1_AutoML_1_20220110_151432_model_37           </td><td style=\"text-align: right;\">                 18538.8</td><td style=\"text-align: right;\">136.157</td><td style=\"text-align: right;\"> 18538.8</td><td style=\"text-align: right;\"> 84.3583</td><td style=\"text-align: right;\">    nan</td></tr>\n",
       "<tr><td>GBM_grid_1_AutoML_1_20220110_151432_model_97           </td><td style=\"text-align: right;\">                 18576.8</td><td style=\"text-align: right;\">136.297</td><td style=\"text-align: right;\"> 18576.8</td><td style=\"text-align: right;\"> 85.7744</td><td style=\"text-align: right;\">    nan</td></tr>\n",
       "<tr><td>GBM_grid_1_AutoML_1_20220110_151432_model_111          </td><td style=\"text-align: right;\">                 18900.1</td><td style=\"text-align: right;\">137.477</td><td style=\"text-align: right;\"> 18900.1</td><td style=\"text-align: right;\"> 86.473 </td><td style=\"text-align: right;\">    nan</td></tr>\n",
       "<tr><td>GBM_grid_1_AutoML_1_20220110_151432_model_90           </td><td style=\"text-align: right;\">                 18901.2</td><td style=\"text-align: right;\">137.481</td><td style=\"text-align: right;\"> 18901.2</td><td style=\"text-align: right;\"> 86.9355</td><td style=\"text-align: right;\">    nan</td></tr>\n",
       "<tr><td>GBM_grid_1_AutoML_1_20220110_151432_model_91           </td><td style=\"text-align: right;\">                 18929.4</td><td style=\"text-align: right;\">137.584</td><td style=\"text-align: right;\"> 18929.4</td><td style=\"text-align: right;\"> 87.8775</td><td style=\"text-align: right;\">    nan</td></tr>\n",
       "<tr><td>GBM_4_AutoML_1_20220110_151432                         </td><td style=\"text-align: right;\">                 18941.9</td><td style=\"text-align: right;\">137.63 </td><td style=\"text-align: right;\"> 18941.9</td><td style=\"text-align: right;\"> 85.9493</td><td style=\"text-align: right;\">    nan</td></tr>\n",
       "<tr><td>GBM_grid_1_AutoML_1_20220110_151432_model_77           </td><td style=\"text-align: right;\">                 19010.9</td><td style=\"text-align: right;\">137.88 </td><td style=\"text-align: right;\"> 19010.9</td><td style=\"text-align: right;\"> 87.7986</td><td style=\"text-align: right;\">    nan</td></tr>\n",
       "<tr><td>GBM_grid_1_AutoML_1_20220110_151432_model_107          </td><td style=\"text-align: right;\">                 19140.8</td><td style=\"text-align: right;\">138.35 </td><td style=\"text-align: right;\"> 19140.8</td><td style=\"text-align: right;\"> 84.8435</td><td style=\"text-align: right;\">    nan</td></tr>\n",
       "<tr><td>GBM_grid_1_AutoML_1_20220110_151432_model_44           </td><td style=\"text-align: right;\">                 19390.8</td><td style=\"text-align: right;\">139.251</td><td style=\"text-align: right;\"> 19390.8</td><td style=\"text-align: right;\"> 90.3121</td><td style=\"text-align: right;\">    nan</td></tr>\n",
       "<tr><td>XRT_1_AutoML_1_20220110_151432                         </td><td style=\"text-align: right;\">                 19627.3</td><td style=\"text-align: right;\">140.098</td><td style=\"text-align: right;\"> 19627.3</td><td style=\"text-align: right;\"> 82.787 </td><td style=\"text-align: right;\">    nan</td></tr>\n",
       "<tr><td>GBM_grid_1_AutoML_1_20220110_151432_model_116          </td><td style=\"text-align: right;\">                 19815  </td><td style=\"text-align: right;\">140.766</td><td style=\"text-align: right;\"> 19815  </td><td style=\"text-align: right;\"> 91.4808</td><td style=\"text-align: right;\">    nan</td></tr>\n",
       "<tr><td>GBM_grid_1_AutoML_1_20220110_151432_model_25           </td><td style=\"text-align: right;\">                 19879.2</td><td style=\"text-align: right;\">140.994</td><td style=\"text-align: right;\"> 19879.2</td><td style=\"text-align: right;\"> 93.9826</td><td style=\"text-align: right;\">    nan</td></tr>\n",
       "<tr><td>GBM_grid_1_AutoML_1_20220110_151432_model_41           </td><td style=\"text-align: right;\">                 19919.4</td><td style=\"text-align: right;\">141.136</td><td style=\"text-align: right;\"> 19919.4</td><td style=\"text-align: right;\"> 89.5799</td><td style=\"text-align: right;\">    nan</td></tr>\n",
       "<tr><td>GBM_grid_1_AutoML_1_20220110_151432_model_29           </td><td style=\"text-align: right;\">                 19944.2</td><td style=\"text-align: right;\">141.224</td><td style=\"text-align: right;\"> 19944.2</td><td style=\"text-align: right;\"> 97.1265</td><td style=\"text-align: right;\">    nan</td></tr>\n",
       "<tr><td>GBM_grid_1_AutoML_1_20220110_151432_model_3            </td><td style=\"text-align: right;\">                 20132.3</td><td style=\"text-align: right;\">141.888</td><td style=\"text-align: right;\"> 20132.3</td><td style=\"text-align: right;\"> 87.148 </td><td style=\"text-align: right;\">    nan</td></tr>\n",
       "<tr><td>GBM_grid_1_AutoML_1_20220110_151432_model_36           </td><td style=\"text-align: right;\">                 20150.5</td><td style=\"text-align: right;\">141.952</td><td style=\"text-align: right;\"> 20150.5</td><td style=\"text-align: right;\"> 92.0768</td><td style=\"text-align: right;\">    nan</td></tr>\n",
       "<tr><td>GBM_grid_1_AutoML_1_20220110_151432_model_99           </td><td style=\"text-align: right;\">                 20188  </td><td style=\"text-align: right;\">142.084</td><td style=\"text-align: right;\"> 20188  </td><td style=\"text-align: right;\"> 94.2103</td><td style=\"text-align: right;\">    nan</td></tr>\n",
       "<tr><td>GBM_grid_1_AutoML_1_20220110_151432_model_86           </td><td style=\"text-align: right;\">                 20240.8</td><td style=\"text-align: right;\">142.27 </td><td style=\"text-align: right;\"> 20240.8</td><td style=\"text-align: right;\"> 88.2767</td><td style=\"text-align: right;\">    nan</td></tr>\n",
       "<tr><td>GBM_grid_1_AutoML_1_20220110_151432_model_117          </td><td style=\"text-align: right;\">                 20274.8</td><td style=\"text-align: right;\">142.39 </td><td style=\"text-align: right;\"> 20274.8</td><td style=\"text-align: right;\"> 89.8544</td><td style=\"text-align: right;\">    nan</td></tr>\n",
       "<tr><td>GBM_grid_1_AutoML_1_20220110_151432_model_54           </td><td style=\"text-align: right;\">                 20290.7</td><td style=\"text-align: right;\">142.446</td><td style=\"text-align: right;\"> 20290.7</td><td style=\"text-align: right;\"> 96.2085</td><td style=\"text-align: right;\">    nan</td></tr>\n",
       "<tr><td>GBM_grid_1_AutoML_1_20220110_151432_model_34           </td><td style=\"text-align: right;\">                 20373.2</td><td style=\"text-align: right;\">142.735</td><td style=\"text-align: right;\"> 20373.2</td><td style=\"text-align: right;\"> 92.9777</td><td style=\"text-align: right;\">    nan</td></tr>\n",
       "<tr><td>GBM_grid_1_AutoML_1_20220110_151432_model_1            </td><td style=\"text-align: right;\">                 21031.7</td><td style=\"text-align: right;\">145.023</td><td style=\"text-align: right;\"> 21031.7</td><td style=\"text-align: right;\"> 90.2997</td><td style=\"text-align: right;\">    nan</td></tr>\n",
       "<tr><td>GBM_grid_1_AutoML_1_20220110_151432_model_10           </td><td style=\"text-align: right;\">                 21076.6</td><td style=\"text-align: right;\">145.178</td><td style=\"text-align: right;\"> 21076.6</td><td style=\"text-align: right;\"> 90.6958</td><td style=\"text-align: right;\">    nan</td></tr>\n",
       "<tr><td>GBM_grid_1_AutoML_1_20220110_151432_model_39           </td><td style=\"text-align: right;\">                 21128.3</td><td style=\"text-align: right;\">145.356</td><td style=\"text-align: right;\"> 21128.3</td><td style=\"text-align: right;\"> 91.9127</td><td style=\"text-align: right;\">    nan</td></tr>\n",
       "<tr><td>GBM_grid_1_AutoML_1_20220110_151432_model_13           </td><td style=\"text-align: right;\">                 21189.1</td><td style=\"text-align: right;\">145.565</td><td style=\"text-align: right;\"> 21189.1</td><td style=\"text-align: right;\"> 87.6082</td><td style=\"text-align: right;\">    nan</td></tr>\n",
       "<tr><td>GBM_grid_1_AutoML_1_20220110_151432_model_56           </td><td style=\"text-align: right;\">                 21599.2</td><td style=\"text-align: right;\">146.967</td><td style=\"text-align: right;\"> 21599.2</td><td style=\"text-align: right;\"> 91.0082</td><td style=\"text-align: right;\">    nan</td></tr>\n",
       "<tr><td>GBM_grid_1_AutoML_1_20220110_151432_model_114          </td><td style=\"text-align: right;\">                 21693.8</td><td style=\"text-align: right;\">147.288</td><td style=\"text-align: right;\"> 21693.8</td><td style=\"text-align: right;\"> 90.4887</td><td style=\"text-align: right;\">    nan</td></tr>\n",
       "<tr><td>GBM_grid_1_AutoML_1_20220110_151432_model_70           </td><td style=\"text-align: right;\">                 21848.5</td><td style=\"text-align: right;\">147.813</td><td style=\"text-align: right;\"> 21848.5</td><td style=\"text-align: right;\"> 91.7011</td><td style=\"text-align: right;\">    nan</td></tr>\n",
       "<tr><td>GBM_grid_1_AutoML_1_20220110_151432_model_115          </td><td style=\"text-align: right;\">                 21918.1</td><td style=\"text-align: right;\">148.047</td><td style=\"text-align: right;\"> 21918.1</td><td style=\"text-align: right;\"> 93.5262</td><td style=\"text-align: right;\">    nan</td></tr>\n",
       "<tr><td>GBM_grid_1_AutoML_1_20220110_151432_model_94           </td><td style=\"text-align: right;\">                 21959.6</td><td style=\"text-align: right;\">148.188</td><td style=\"text-align: right;\"> 21959.6</td><td style=\"text-align: right;\"> 89.7311</td><td style=\"text-align: right;\">    nan</td></tr>\n",
       "<tr><td>GBM_grid_1_AutoML_1_20220110_151432_model_63           </td><td style=\"text-align: right;\">                 22325.4</td><td style=\"text-align: right;\">149.417</td><td style=\"text-align: right;\"> 22325.4</td><td style=\"text-align: right;\"> 92.4788</td><td style=\"text-align: right;\">    nan</td></tr>\n",
       "<tr><td>GBM_grid_1_AutoML_1_20220110_151432_model_109          </td><td style=\"text-align: right;\">                 22488.1</td><td style=\"text-align: right;\">149.96 </td><td style=\"text-align: right;\"> 22488.1</td><td style=\"text-align: right;\"> 90.6053</td><td style=\"text-align: right;\">    nan</td></tr>\n",
       "<tr><td>GBM_grid_1_AutoML_1_20220110_151432_model_32           </td><td style=\"text-align: right;\">                 22869.4</td><td style=\"text-align: right;\">151.226</td><td style=\"text-align: right;\"> 22869.4</td><td style=\"text-align: right;\"> 91.6488</td><td style=\"text-align: right;\">    nan</td></tr>\n",
       "<tr><td>GBM_grid_1_AutoML_1_20220110_151432_model_61           </td><td style=\"text-align: right;\">                 23089.8</td><td style=\"text-align: right;\">151.953</td><td style=\"text-align: right;\"> 23089.8</td><td style=\"text-align: right;\"> 98.2335</td><td style=\"text-align: right;\">    nan</td></tr>\n",
       "<tr><td>GBM_grid_1_AutoML_1_20220110_151432_model_103          </td><td style=\"text-align: right;\">                 23129.3</td><td style=\"text-align: right;\">152.083</td><td style=\"text-align: right;\"> 23129.3</td><td style=\"text-align: right;\"> 95.239 </td><td style=\"text-align: right;\">    nan</td></tr>\n",
       "<tr><td>GBM_grid_1_AutoML_1_20220110_151432_model_33           </td><td style=\"text-align: right;\">                 23191.4</td><td style=\"text-align: right;\">152.287</td><td style=\"text-align: right;\"> 23191.4</td><td style=\"text-align: right;\"> 91.1593</td><td style=\"text-align: right;\">    nan</td></tr>\n",
       "<tr><td>GBM_grid_1_AutoML_1_20220110_151432_model_8            </td><td style=\"text-align: right;\">                 23239.2</td><td style=\"text-align: right;\">152.444</td><td style=\"text-align: right;\"> 23239.2</td><td style=\"text-align: right;\"> 95.5681</td><td style=\"text-align: right;\">    nan</td></tr>\n",
       "<tr><td>GBM_grid_1_AutoML_1_20220110_151432_model_9            </td><td style=\"text-align: right;\">                 23263.9</td><td style=\"text-align: right;\">152.525</td><td style=\"text-align: right;\"> 23263.9</td><td style=\"text-align: right;\"> 96.2233</td><td style=\"text-align: right;\">    nan</td></tr>\n",
       "<tr><td>GBM_grid_1_AutoML_1_20220110_151432_model_82           </td><td style=\"text-align: right;\">                 23620.2</td><td style=\"text-align: right;\">153.689</td><td style=\"text-align: right;\"> 23620.2</td><td style=\"text-align: right;\"> 93.0546</td><td style=\"text-align: right;\">    nan</td></tr>\n",
       "<tr><td>GBM_grid_1_AutoML_1_20220110_151432_model_53           </td><td style=\"text-align: right;\">                 23686.7</td><td style=\"text-align: right;\">153.905</td><td style=\"text-align: right;\"> 23686.7</td><td style=\"text-align: right;\"> 94.7986</td><td style=\"text-align: right;\">    nan</td></tr>\n",
       "<tr><td>GBM_grid_1_AutoML_1_20220110_151432_model_118          </td><td style=\"text-align: right;\">                 23706.1</td><td style=\"text-align: right;\">153.968</td><td style=\"text-align: right;\"> 23706.1</td><td style=\"text-align: right;\"> 96.3593</td><td style=\"text-align: right;\">    nan</td></tr>\n",
       "<tr><td>GBM_grid_1_AutoML_1_20220110_151432_model_69           </td><td style=\"text-align: right;\">                 23886.2</td><td style=\"text-align: right;\">154.552</td><td style=\"text-align: right;\"> 23886.2</td><td style=\"text-align: right;\"> 94.6312</td><td style=\"text-align: right;\">    nan</td></tr>\n",
       "<tr><td>GBM_grid_1_AutoML_1_20220110_151432_model_72           </td><td style=\"text-align: right;\">                 24062.4</td><td style=\"text-align: right;\">155.12 </td><td style=\"text-align: right;\"> 24062.4</td><td style=\"text-align: right;\">107.308 </td><td style=\"text-align: right;\">    nan</td></tr>\n",
       "<tr><td>GBM_grid_1_AutoML_1_20220110_151432_model_46           </td><td style=\"text-align: right;\">                 24139.8</td><td style=\"text-align: right;\">155.37 </td><td style=\"text-align: right;\"> 24139.8</td><td style=\"text-align: right;\"> 96.9418</td><td style=\"text-align: right;\">    nan</td></tr>\n",
       "<tr><td>GBM_grid_1_AutoML_1_20220110_151432_model_49           </td><td style=\"text-align: right;\">                 24174.7</td><td style=\"text-align: right;\">155.482</td><td style=\"text-align: right;\"> 24174.7</td><td style=\"text-align: right;\"> 98.1685</td><td style=\"text-align: right;\">    nan</td></tr>\n",
       "<tr><td>GBM_grid_1_AutoML_1_20220110_151432_model_55           </td><td style=\"text-align: right;\">                 24338.3</td><td style=\"text-align: right;\">156.007</td><td style=\"text-align: right;\"> 24338.3</td><td style=\"text-align: right;\"> 95.437 </td><td style=\"text-align: right;\">    nan</td></tr>\n",
       "<tr><td>GBM_grid_1_AutoML_1_20220110_151432_model_66           </td><td style=\"text-align: right;\">                 24385.5</td><td style=\"text-align: right;\">156.159</td><td style=\"text-align: right;\"> 24385.5</td><td style=\"text-align: right;\"> 92.7111</td><td style=\"text-align: right;\">    nan</td></tr>\n",
       "<tr><td>GBM_grid_1_AutoML_1_20220110_151432_model_113          </td><td style=\"text-align: right;\">                 25149.7</td><td style=\"text-align: right;\">158.587</td><td style=\"text-align: right;\"> 25149.7</td><td style=\"text-align: right;\">100.419 </td><td style=\"text-align: right;\">    nan</td></tr>\n",
       "<tr><td>GBM_grid_1_AutoML_1_20220110_151432_model_67           </td><td style=\"text-align: right;\">                 25286.8</td><td style=\"text-align: right;\">159.018</td><td style=\"text-align: right;\"> 25286.8</td><td style=\"text-align: right;\">102.74  </td><td style=\"text-align: right;\">    nan</td></tr>\n",
       "<tr><td>GBM_grid_1_AutoML_1_20220110_151432_model_22           </td><td style=\"text-align: right;\">                 26545.9</td><td style=\"text-align: right;\">162.929</td><td style=\"text-align: right;\"> 26545.9</td><td style=\"text-align: right;\">103.809 </td><td style=\"text-align: right;\">    nan</td></tr>\n",
       "<tr><td>GBM_grid_1_AutoML_1_20220110_151432_model_38           </td><td style=\"text-align: right;\">                 26982.3</td><td style=\"text-align: right;\">164.263</td><td style=\"text-align: right;\"> 26982.3</td><td style=\"text-align: right;\"> 96.7539</td><td style=\"text-align: right;\">    nan</td></tr>\n",
       "<tr><td>GBM_grid_1_AutoML_1_20220110_151432_model_4            </td><td style=\"text-align: right;\">                 27301.2</td><td style=\"text-align: right;\">165.231</td><td style=\"text-align: right;\"> 27301.2</td><td style=\"text-align: right;\">101.173 </td><td style=\"text-align: right;\">    nan</td></tr>\n",
       "<tr><td>DeepLearning_grid_1_AutoML_1_20220110_151432_model_5   </td><td style=\"text-align: right;\">                 27304.3</td><td style=\"text-align: right;\">165.24 </td><td style=\"text-align: right;\"> 27304.3</td><td style=\"text-align: right;\">128.539 </td><td style=\"text-align: right;\">    nan</td></tr>\n",
       "<tr><td>GBM_grid_1_AutoML_1_20220110_151432_model_105          </td><td style=\"text-align: right;\">                 27313  </td><td style=\"text-align: right;\">165.266</td><td style=\"text-align: right;\"> 27313  </td><td style=\"text-align: right;\">101.608 </td><td style=\"text-align: right;\">    nan</td></tr>\n",
       "<tr><td>GBM_grid_1_AutoML_1_20220110_151432_model_45           </td><td style=\"text-align: right;\">                 27329.1</td><td style=\"text-align: right;\">165.315</td><td style=\"text-align: right;\"> 27329.1</td><td style=\"text-align: right;\">103.975 </td><td style=\"text-align: right;\">    nan</td></tr>\n",
       "<tr><td>GBM_grid_1_AutoML_1_20220110_151432_model_28           </td><td style=\"text-align: right;\">                 27510.5</td><td style=\"text-align: right;\">165.863</td><td style=\"text-align: right;\"> 27510.5</td><td style=\"text-align: right;\"> 99.9451</td><td style=\"text-align: right;\">    nan</td></tr>\n",
       "<tr><td>GBM_grid_1_AutoML_1_20220110_151432_model_88           </td><td style=\"text-align: right;\">                 28059.4</td><td style=\"text-align: right;\">167.509</td><td style=\"text-align: right;\"> 28059.4</td><td style=\"text-align: right;\">102.152 </td><td style=\"text-align: right;\">    nan</td></tr>\n",
       "<tr><td>GBM_grid_1_AutoML_1_20220110_151432_model_100          </td><td style=\"text-align: right;\">                 28287.2</td><td style=\"text-align: right;\">168.188</td><td style=\"text-align: right;\"> 28287.2</td><td style=\"text-align: right;\">102.818 </td><td style=\"text-align: right;\">    nan</td></tr>\n",
       "<tr><td>GBM_grid_1_AutoML_1_20220110_151432_model_20           </td><td style=\"text-align: right;\">                 28632.3</td><td style=\"text-align: right;\">169.211</td><td style=\"text-align: right;\"> 28632.3</td><td style=\"text-align: right;\">109.291 </td><td style=\"text-align: right;\">    nan</td></tr>\n",
       "<tr><td>GBM_grid_1_AutoML_1_20220110_151432_model_110          </td><td style=\"text-align: right;\">                 28639.1</td><td style=\"text-align: right;\">169.231</td><td style=\"text-align: right;\"> 28639.1</td><td style=\"text-align: right;\">104.262 </td><td style=\"text-align: right;\">    nan</td></tr>\n",
       "<tr><td>GBM_grid_1_AutoML_1_20220110_151432_model_15           </td><td style=\"text-align: right;\">                 28896.4</td><td style=\"text-align: right;\">169.99 </td><td style=\"text-align: right;\"> 28896.4</td><td style=\"text-align: right;\">106.275 </td><td style=\"text-align: right;\">    nan</td></tr>\n",
       "<tr><td>GBM_grid_1_AutoML_1_20220110_151432_model_78           </td><td style=\"text-align: right;\">                 29011.4</td><td style=\"text-align: right;\">170.327</td><td style=\"text-align: right;\"> 29011.4</td><td style=\"text-align: right;\">110.217 </td><td style=\"text-align: right;\">    nan</td></tr>\n",
       "<tr><td>GBM_grid_1_AutoML_1_20220110_151432_model_7            </td><td style=\"text-align: right;\">                 29282.7</td><td style=\"text-align: right;\">171.122</td><td style=\"text-align: right;\"> 29282.7</td><td style=\"text-align: right;\">107.462 </td><td style=\"text-align: right;\">    nan</td></tr>\n",
       "<tr><td>GBM_grid_1_AutoML_1_20220110_151432_model_31           </td><td style=\"text-align: right;\">                 29287.9</td><td style=\"text-align: right;\">171.137</td><td style=\"text-align: right;\"> 29287.9</td><td style=\"text-align: right;\">102.368 </td><td style=\"text-align: right;\">    nan</td></tr>\n",
       "<tr><td>GBM_grid_1_AutoML_1_20220110_151432_model_40           </td><td style=\"text-align: right;\">                 29582  </td><td style=\"text-align: right;\">171.994</td><td style=\"text-align: right;\"> 29582  </td><td style=\"text-align: right;\">100.802 </td><td style=\"text-align: right;\">    nan</td></tr>\n",
       "<tr><td>GBM_grid_1_AutoML_1_20220110_151432_model_24           </td><td style=\"text-align: right;\">                 29799  </td><td style=\"text-align: right;\">172.624</td><td style=\"text-align: right;\"> 29799  </td><td style=\"text-align: right;\">101.57  </td><td style=\"text-align: right;\">    nan</td></tr>\n",
       "<tr><td>DeepLearning_grid_1_AutoML_1_20220110_151432_model_1   </td><td style=\"text-align: right;\">                 30355.8</td><td style=\"text-align: right;\">174.229</td><td style=\"text-align: right;\"> 30355.8</td><td style=\"text-align: right;\">101.778 </td><td style=\"text-align: right;\">    nan</td></tr>\n",
       "<tr><td>DeepLearning_grid_1_AutoML_1_20220110_151432_model_6   </td><td style=\"text-align: right;\">                 32195.9</td><td style=\"text-align: right;\">179.432</td><td style=\"text-align: right;\"> 32195.9</td><td style=\"text-align: right;\">116.637 </td><td style=\"text-align: right;\">    nan</td></tr>\n",
       "<tr><td>DeepLearning_grid_1_AutoML_1_20220110_151432_model_4   </td><td style=\"text-align: right;\">                 32620.4</td><td style=\"text-align: right;\">180.611</td><td style=\"text-align: right;\"> 32620.4</td><td style=\"text-align: right;\">121.244 </td><td style=\"text-align: right;\">    nan</td></tr>\n",
       "<tr><td>GBM_grid_1_AutoML_1_20220110_151432_model_80           </td><td style=\"text-align: right;\">                 33736.5</td><td style=\"text-align: right;\">183.675</td><td style=\"text-align: right;\"> 33736.5</td><td style=\"text-align: right;\">118.422 </td><td style=\"text-align: right;\">    nan</td></tr>\n",
       "<tr><td>GBM_grid_1_AutoML_1_20220110_151432_model_11           </td><td style=\"text-align: right;\">                 34450.1</td><td style=\"text-align: right;\">185.607</td><td style=\"text-align: right;\"> 34450.1</td><td style=\"text-align: right;\">116.319 </td><td style=\"text-align: right;\">    nan</td></tr>\n",
       "<tr><td>GBM_grid_1_AutoML_1_20220110_151432_model_27           </td><td style=\"text-align: right;\">                 34532.8</td><td style=\"text-align: right;\">185.83 </td><td style=\"text-align: right;\"> 34532.8</td><td style=\"text-align: right;\">127.219 </td><td style=\"text-align: right;\">    nan</td></tr>\n",
       "<tr><td>GBM_grid_1_AutoML_1_20220110_151432_model_65           </td><td style=\"text-align: right;\">                 34544.4</td><td style=\"text-align: right;\">185.861</td><td style=\"text-align: right;\"> 34544.4</td><td style=\"text-align: right;\">129.902 </td><td style=\"text-align: right;\">    nan</td></tr>\n",
       "<tr><td>GBM_grid_1_AutoML_1_20220110_151432_model_84           </td><td style=\"text-align: right;\">                 34580  </td><td style=\"text-align: right;\">185.957</td><td style=\"text-align: right;\"> 34580  </td><td style=\"text-align: right;\">120.708 </td><td style=\"text-align: right;\">    nan</td></tr>\n",
       "<tr><td>GBM_grid_1_AutoML_1_20220110_151432_model_108          </td><td style=\"text-align: right;\">                 34652.5</td><td style=\"text-align: right;\">186.152</td><td style=\"text-align: right;\"> 34652.5</td><td style=\"text-align: right;\">130.426 </td><td style=\"text-align: right;\">    nan</td></tr>\n",
       "<tr><td>StackedEnsemble_BestOfFamily_1_AutoML_1_20220110_151432</td><td style=\"text-align: right;\">                 34893.7</td><td style=\"text-align: right;\">186.799</td><td style=\"text-align: right;\"> 34893.7</td><td style=\"text-align: right;\">135.458 </td><td style=\"text-align: right;\">    nan</td></tr>\n",
       "<tr><td>GBM_grid_1_AutoML_1_20220110_151432_model_19           </td><td style=\"text-align: right;\">                 35406.2</td><td style=\"text-align: right;\">188.165</td><td style=\"text-align: right;\"> 35406.2</td><td style=\"text-align: right;\">132.249 </td><td style=\"text-align: right;\">    nan</td></tr>\n",
       "<tr><td>GBM_1_AutoML_1_20220110_151432                         </td><td style=\"text-align: right;\">                 36487  </td><td style=\"text-align: right;\">191.016</td><td style=\"text-align: right;\"> 36487  </td><td style=\"text-align: right;\">131.445 </td><td style=\"text-align: right;\">    nan</td></tr>\n",
       "<tr><td>DeepLearning_grid_2_AutoML_1_20220110_151432_model_1   </td><td style=\"text-align: right;\">                 36626  </td><td style=\"text-align: right;\">191.379</td><td style=\"text-align: right;\"> 36626  </td><td style=\"text-align: right;\">151.101 </td><td style=\"text-align: right;\">    nan</td></tr>\n",
       "<tr><td>GBM_grid_1_AutoML_1_20220110_151432_model_60           </td><td style=\"text-align: right;\">                 36650.7</td><td style=\"text-align: right;\">191.444</td><td style=\"text-align: right;\"> 36650.7</td><td style=\"text-align: right;\">135.121 </td><td style=\"text-align: right;\">    nan</td></tr>\n",
       "<tr><td>GBM_grid_1_AutoML_1_20220110_151432_model_85           </td><td style=\"text-align: right;\">                 37274.7</td><td style=\"text-align: right;\">193.067</td><td style=\"text-align: right;\"> 37274.7</td><td style=\"text-align: right;\">137.366 </td><td style=\"text-align: right;\">    nan</td></tr>\n",
       "<tr><td>GBM_grid_1_AutoML_1_20220110_151432_model_18           </td><td style=\"text-align: right;\">                 37344.8</td><td style=\"text-align: right;\">193.248</td><td style=\"text-align: right;\"> 37344.8</td><td style=\"text-align: right;\">121.752 </td><td style=\"text-align: right;\">    nan</td></tr>\n",
       "<tr><td>GBM_grid_1_AutoML_1_20220110_151432_model_104          </td><td style=\"text-align: right;\">                 37680.3</td><td style=\"text-align: right;\">194.114</td><td style=\"text-align: right;\"> 37680.3</td><td style=\"text-align: right;\">135.559 </td><td style=\"text-align: right;\">    nan</td></tr>\n",
       "<tr><td>GBM_grid_1_AutoML_1_20220110_151432_model_16           </td><td style=\"text-align: right;\">                 37906.6</td><td style=\"text-align: right;\">194.696</td><td style=\"text-align: right;\"> 37906.6</td><td style=\"text-align: right;\">132.364 </td><td style=\"text-align: right;\">    nan</td></tr>\n",
       "<tr><td>GBM_grid_1_AutoML_1_20220110_151432_model_92           </td><td style=\"text-align: right;\">                 38093.9</td><td style=\"text-align: right;\">195.177</td><td style=\"text-align: right;\"> 38093.9</td><td style=\"text-align: right;\">136.187 </td><td style=\"text-align: right;\">    nan</td></tr>\n",
       "<tr><td>GBM_grid_1_AutoML_1_20220110_151432_model_64           </td><td style=\"text-align: right;\">                 38266.3</td><td style=\"text-align: right;\">195.618</td><td style=\"text-align: right;\"> 38266.3</td><td style=\"text-align: right;\">132.298 </td><td style=\"text-align: right;\">    nan</td></tr>\n",
       "<tr><td>GBM_grid_1_AutoML_1_20220110_151432_model_81           </td><td style=\"text-align: right;\">                 38894.3</td><td style=\"text-align: right;\">197.216</td><td style=\"text-align: right;\"> 38894.3</td><td style=\"text-align: right;\">134.062 </td><td style=\"text-align: right;\">    nan</td></tr>\n",
       "<tr><td>GBM_grid_1_AutoML_1_20220110_151432_model_62           </td><td style=\"text-align: right;\">                 38929.3</td><td style=\"text-align: right;\">197.305</td><td style=\"text-align: right;\"> 38929.3</td><td style=\"text-align: right;\">133.413 </td><td style=\"text-align: right;\">    nan</td></tr>\n",
       "<tr><td>GBM_grid_1_AutoML_1_20220110_151432_model_71           </td><td style=\"text-align: right;\">                 39254.7</td><td style=\"text-align: right;\">198.128</td><td style=\"text-align: right;\"> 39254.7</td><td style=\"text-align: right;\">137.28  </td><td style=\"text-align: right;\">    nan</td></tr>\n",
       "<tr><td>GBM_grid_1_AutoML_1_20220110_151432_model_83           </td><td style=\"text-align: right;\">                 39377.2</td><td style=\"text-align: right;\">198.437</td><td style=\"text-align: right;\"> 39377.2</td><td style=\"text-align: right;\">138.674 </td><td style=\"text-align: right;\">    nan</td></tr>\n",
       "<tr><td>GBM_grid_1_AutoML_1_20220110_151432_model_52           </td><td style=\"text-align: right;\">                 39418.8</td><td style=\"text-align: right;\">198.542</td><td style=\"text-align: right;\"> 39418.8</td><td style=\"text-align: right;\">133.528 </td><td style=\"text-align: right;\">    nan</td></tr>\n",
       "<tr><td>GBM_grid_1_AutoML_1_20220110_151432_model_101          </td><td style=\"text-align: right;\">                 39687.6</td><td style=\"text-align: right;\">199.218</td><td style=\"text-align: right;\"> 39687.6</td><td style=\"text-align: right;\">137.738 </td><td style=\"text-align: right;\">    nan</td></tr>\n",
       "<tr><td>GBM_grid_1_AutoML_1_20220110_151432_model_57           </td><td style=\"text-align: right;\">                 40446  </td><td style=\"text-align: right;\">201.112</td><td style=\"text-align: right;\"> 40446  </td><td style=\"text-align: right;\">134.859 </td><td style=\"text-align: right;\">    nan</td></tr>\n",
       "<tr><td>GBM_grid_1_AutoML_1_20220110_151432_model_6            </td><td style=\"text-align: right;\">                 40487.2</td><td style=\"text-align: right;\">201.214</td><td style=\"text-align: right;\"> 40487.2</td><td style=\"text-align: right;\">141.799 </td><td style=\"text-align: right;\">    nan</td></tr>\n",
       "<tr><td>GBM_grid_1_AutoML_1_20220110_151432_model_48           </td><td style=\"text-align: right;\">                 43054.7</td><td style=\"text-align: right;\">207.496</td><td style=\"text-align: right;\"> 43054.7</td><td style=\"text-align: right;\">139.859 </td><td style=\"text-align: right;\">    nan</td></tr>\n",
       "<tr><td>DeepLearning_grid_2_AutoML_1_20220110_151432_model_4   </td><td style=\"text-align: right;\">                 43155.9</td><td style=\"text-align: right;\">207.74 </td><td style=\"text-align: right;\"> 43155.9</td><td style=\"text-align: right;\">157.738 </td><td style=\"text-align: right;\">    nan</td></tr>\n",
       "<tr><td>DeepLearning_grid_2_AutoML_1_20220110_151432_model_3   </td><td style=\"text-align: right;\">                 44347.5</td><td style=\"text-align: right;\">210.588</td><td style=\"text-align: right;\"> 44347.5</td><td style=\"text-align: right;\">143.683 </td><td style=\"text-align: right;\">    nan</td></tr>\n",
       "<tr><td>GBM_grid_1_AutoML_1_20220110_151432_model_79           </td><td style=\"text-align: right;\">                 46922.8</td><td style=\"text-align: right;\">216.617</td><td style=\"text-align: right;\"> 46922.8</td><td style=\"text-align: right;\">150.954 </td><td style=\"text-align: right;\">    nan</td></tr>\n",
       "<tr><td>DeepLearning_grid_1_AutoML_1_20220110_151432_model_2   </td><td style=\"text-align: right;\">                 47134.1</td><td style=\"text-align: right;\">217.104</td><td style=\"text-align: right;\"> 47134.1</td><td style=\"text-align: right;\">171.252 </td><td style=\"text-align: right;\">    nan</td></tr>\n",
       "<tr><td>DeepLearning_grid_1_AutoML_1_20220110_151432_model_3   </td><td style=\"text-align: right;\">                 47266.7</td><td style=\"text-align: right;\">217.409</td><td style=\"text-align: right;\"> 47266.7</td><td style=\"text-align: right;\">160.274 </td><td style=\"text-align: right;\">    nan</td></tr>\n",
       "<tr><td>DeepLearning_grid_2_AutoML_1_20220110_151432_model_2   </td><td style=\"text-align: right;\">                 47584.9</td><td style=\"text-align: right;\">218.14 </td><td style=\"text-align: right;\"> 47584.9</td><td style=\"text-align: right;\">158.797 </td><td style=\"text-align: right;\">    nan</td></tr>\n",
       "<tr><td>GBM_grid_1_AutoML_1_20220110_151432_model_30           </td><td style=\"text-align: right;\">                 48966.1</td><td style=\"text-align: right;\">221.283</td><td style=\"text-align: right;\"> 48966.1</td><td style=\"text-align: right;\">146.32  </td><td style=\"text-align: right;\">    nan</td></tr>\n",
       "<tr><td>DeepLearning_grid_3_AutoML_1_20220110_151432_model_1   </td><td style=\"text-align: right;\">                 53433.4</td><td style=\"text-align: right;\">231.157</td><td style=\"text-align: right;\"> 53433.4</td><td style=\"text-align: right;\">183.192 </td><td style=\"text-align: right;\">    nan</td></tr>\n",
       "<tr><td>DeepLearning_grid_3_AutoML_1_20220110_151432_model_3   </td><td style=\"text-align: right;\">                 54155.5</td><td style=\"text-align: right;\">232.713</td><td style=\"text-align: right;\"> 54155.5</td><td style=\"text-align: right;\">173.356 </td><td style=\"text-align: right;\">    nan</td></tr>\n",
       "<tr><td>GBM_grid_1_AutoML_1_20220110_151432_model_106          </td><td style=\"text-align: right;\">                 55107.2</td><td style=\"text-align: right;\">234.749</td><td style=\"text-align: right;\"> 55107.2</td><td style=\"text-align: right;\">152.914 </td><td style=\"text-align: right;\">    nan</td></tr>\n",
       "<tr><td>DeepLearning_grid_1_AutoML_1_20220110_151432_model_7   </td><td style=\"text-align: right;\">                 59323.5</td><td style=\"text-align: right;\">243.564</td><td style=\"text-align: right;\"> 59323.5</td><td style=\"text-align: right;\">185.715 </td><td style=\"text-align: right;\">    nan</td></tr>\n",
       "<tr><td>DeepLearning_1_AutoML_1_20220110_151432                </td><td style=\"text-align: right;\">                 60352.2</td><td style=\"text-align: right;\">245.667</td><td style=\"text-align: right;\"> 60352.2</td><td style=\"text-align: right;\">163.651 </td><td style=\"text-align: right;\">    nan</td></tr>\n",
       "<tr><td>GBM_grid_1_AutoML_1_20220110_151432_model_14           </td><td style=\"text-align: right;\">                 60506.1</td><td style=\"text-align: right;\">245.98 </td><td style=\"text-align: right;\"> 60506.1</td><td style=\"text-align: right;\">161.964 </td><td style=\"text-align: right;\">    nan</td></tr>\n",
       "<tr><td>DeepLearning_grid_3_AutoML_1_20220110_151432_model_2   </td><td style=\"text-align: right;\">                 67825  </td><td style=\"text-align: right;\">260.432</td><td style=\"text-align: right;\"> 67825  </td><td style=\"text-align: right;\">208.687 </td><td style=\"text-align: right;\">    nan</td></tr>\n",
       "<tr><td>GLM_1_AutoML_1_20220110_151432                         </td><td style=\"text-align: right;\">                222516  </td><td style=\"text-align: right;\">471.716</td><td style=\"text-align: right;\">222516  </td><td style=\"text-align: right;\">406.033 </td><td style=\"text-align: right;\">    nan</td></tr>\n",
       "</tbody>\n",
       "</table>"
      ]
     },
     "metadata": {},
     "output_type": "display_data"
    },
    {
     "data": {
      "text/plain": []
     },
     "execution_count": 8,
     "metadata": {},
     "output_type": "execute_result"
    }
   ],
   "source": [
    "# to display all the models \n",
    "lb=aml.leaderboard \n",
    "lb.head(rows=lb.nrows)"
   ]
  },
  {
   "cell_type": "code",
   "execution_count": 10,
   "metadata": {},
   "outputs": [
    {
     "data": {
      "text/html": [
       "<div>\n",
       "<style scoped>\n",
       "    .dataframe tbody tr th:only-of-type {\n",
       "        vertical-align: middle;\n",
       "    }\n",
       "\n",
       "    .dataframe tbody tr th {\n",
       "        vertical-align: top;\n",
       "    }\n",
       "\n",
       "    .dataframe thead th {\n",
       "        text-align: right;\n",
       "    }\n",
       "</style>\n",
       "<table border=\"1\" class=\"dataframe\">\n",
       "  <thead>\n",
       "    <tr style=\"text-align: right;\">\n",
       "      <th></th>\n",
       "      <th>variable</th>\n",
       "      <th>relative_importance</th>\n",
       "      <th>scaled_importance</th>\n",
       "      <th>percentage</th>\n",
       "    </tr>\n",
       "  </thead>\n",
       "  <tbody>\n",
       "    <tr>\n",
       "      <th>0</th>\n",
       "      <td>seebase</td>\n",
       "      <td>6.302261e+08</td>\n",
       "      <td>1.000000</td>\n",
       "      <td>0.805072</td>\n",
       "    </tr>\n",
       "    <tr>\n",
       "      <th>1</th>\n",
       "      <td>nubian</td>\n",
       "      <td>7.069534e+07</td>\n",
       "      <td>0.112175</td>\n",
       "      <td>0.090309</td>\n",
       "    </tr>\n",
       "    <tr>\n",
       "      <th>2</th>\n",
       "      <td>long</td>\n",
       "      <td>3.034844e+07</td>\n",
       "      <td>0.048155</td>\n",
       "      <td>0.038768</td>\n",
       "    </tr>\n",
       "    <tr>\n",
       "      <th>3</th>\n",
       "      <td>sub-basin</td>\n",
       "      <td>1.580874e+07</td>\n",
       "      <td>0.025084</td>\n",
       "      <td>0.020195</td>\n",
       "    </tr>\n",
       "    <tr>\n",
       "      <th>4</th>\n",
       "      <td>gialo</td>\n",
       "      <td>9.230778e+06</td>\n",
       "      <td>0.014647</td>\n",
       "      <td>0.011792</td>\n",
       "    </tr>\n",
       "    <tr>\n",
       "      <th>5</th>\n",
       "      <td>kalash</td>\n",
       "      <td>8.476914e+06</td>\n",
       "      <td>0.013451</td>\n",
       "      <td>0.010829</td>\n",
       "    </tr>\n",
       "    <tr>\n",
       "      <th>6</th>\n",
       "      <td>augila</td>\n",
       "      <td>5.501528e+06</td>\n",
       "      <td>0.008729</td>\n",
       "      <td>0.007028</td>\n",
       "    </tr>\n",
       "    <tr>\n",
       "      <th>7</th>\n",
       "      <td>gir</td>\n",
       "      <td>3.528108e+06</td>\n",
       "      <td>0.005598</td>\n",
       "      <td>0.004507</td>\n",
       "    </tr>\n",
       "    <tr>\n",
       "      <th>8</th>\n",
       "      <td>sirte</td>\n",
       "      <td>2.874042e+06</td>\n",
       "      <td>0.004560</td>\n",
       "      <td>0.003671</td>\n",
       "    </tr>\n",
       "    <tr>\n",
       "      <th>9</th>\n",
       "      <td>gargaf</td>\n",
       "      <td>2.510336e+06</td>\n",
       "      <td>0.003983</td>\n",
       "      <td>0.003207</td>\n",
       "    </tr>\n",
       "    <tr>\n",
       "      <th>10</th>\n",
       "      <td>lat</td>\n",
       "      <td>2.202297e+06</td>\n",
       "      <td>0.003494</td>\n",
       "      <td>0.002813</td>\n",
       "    </tr>\n",
       "    <tr>\n",
       "      <th>11</th>\n",
       "      <td>zelten</td>\n",
       "      <td>1.417238e+06</td>\n",
       "      <td>0.002249</td>\n",
       "      <td>0.001810</td>\n",
       "    </tr>\n",
       "  </tbody>\n",
       "</table>\n",
       "</div>"
      ],
      "text/plain": [
       "     variable  relative_importance  scaled_importance  percentage\n",
       "0     seebase         6.302261e+08           1.000000    0.805072\n",
       "1      nubian         7.069534e+07           0.112175    0.090309\n",
       "2        long         3.034844e+07           0.048155    0.038768\n",
       "3   sub-basin         1.580874e+07           0.025084    0.020195\n",
       "4       gialo         9.230778e+06           0.014647    0.011792\n",
       "5      kalash         8.476914e+06           0.013451    0.010829\n",
       "6      augila         5.501528e+06           0.008729    0.007028\n",
       "7         gir         3.528108e+06           0.005598    0.004507\n",
       "8       sirte         2.874042e+06           0.004560    0.003671\n",
       "9      gargaf         2.510336e+06           0.003983    0.003207\n",
       "10        lat         2.202297e+06           0.003494    0.002813\n",
       "11     zelten         1.417238e+06           0.002249    0.001810"
      ]
     },
     "execution_count": 10,
     "metadata": {},
     "output_type": "execute_result"
    }
   ],
   "source": [
    "#Variable importance (not possible for stacked model)\n",
    "\n",
    "#Variable importance calculated for GBM\n",
    "## get the GBM model from the leaderboard\n",
    "\n",
    "# Get a specific model by model ID\n",
    "m = h2o.get_model(\"GBM_grid_1_AutoML_1_20220110_151432_model_12\")\n",
    "\n",
    "m.varimp(True)"
   ]
  },
  {
   "cell_type": "code",
   "execution_count": 11,
   "metadata": {},
   "outputs": [
    {
     "data": {
      "image/png": "[encoded data removed]",
      "text/plain": [
       "<Figure size 1008x720 with 1 Axes>"
      ]
     },
     "metadata": {
      "needs_background": "light"
     },
     "output_type": "display_data"
    }
   ],
   "source": [
    "import matplotlib.pyplot as plt\n",
    "m.varimp_plot()"
   ]
  },
  {
   "cell_type": "code",
   "execution_count": 12,
   "metadata": {},
   "outputs": [
    {
     "data": {
      "image/png": "[encoded data removed]",
      "text/plain": [
       "<Figure size 1008x720 with 1 Axes>"
      ]
     },
     "metadata": {
      "needs_background": "light"
     },
     "output_type": "display_data"
    }
   ],
   "source": [
    "m2 = h2o.get_model(\"DRF_1_AutoML_1_20220110_151432\")\n",
    "\n",
    "m2.varimp(True)\n",
    "m2.varimp_plot()\n"
   ]
  },
  {
   "cell_type": "code",
   "execution_count": 25,
   "metadata": {},
   "outputs": [
    {
     "data": {
      "image/png": "[encoded data removed]",
      "text/plain": [
       "<Figure size 1008x720 with 1 Axes>"
      ]
     },
     "metadata": {
      "needs_background": "light"
     },
     "output_type": "display_data"
    }
   ],
   "source": [
    "m3 = h2o.get_model(\"DeepLearning_grid_1_AutoML_1_20211216_154928_model_5\")\n",
    "\n",
    "m3.varimp(True)\n",
    "m3.varimp_plot()\n"
   ]
  },
  {
   "cell_type": "code",
   "execution_count": 26,
   "metadata": {},
   "outputs": [
    {
     "data": {
      "image/png": "[encoded data removed]",
      "text/plain": [
       "<Figure size 1008x720 with 1 Axes>"
      ]
     },
     "metadata": {
      "needs_background": "light"
     },
     "output_type": "display_data"
    }
   ],
   "source": [
    "m4 = h2o.get_model(\"GLM_1_AutoML_1_20211216_154928\")\n",
    "\n",
    "m4.varimp(True)\n",
    "m4.varimp_plot()"
   ]
  },
  {
   "cell_type": "code",
   "execution_count": 13,
   "metadata": {},
   "outputs": [
    {
     "data": {
      "image/png": "[encoded data removed]",
      "text/plain": [
       "<Figure size 1008x720 with 1 Axes>"
      ]
     },
     "metadata": {
      "needs_background": "light"
     },
     "output_type": "display_data"
    }
   ],
   "source": [
    "m5 = h2o.get_model(\"GBM_5_AutoML_1_20220110_151432\")\n",
    "\n",
    "m5.varimp(True)\n",
    "m5.varimp_plot()\n"
   ]
  },
  {
   "cell_type": "code",
   "execution_count": 14,
   "metadata": {},
   "outputs": [
    {
     "data": {
      "image/png": "[encoded data removed]",
      "text/plain": [
       "<Figure size 1008x720 with 1 Axes>"
      ]
     },
     "metadata": {
      "needs_background": "light"
     },
     "output_type": "display_data"
    }
   ],
   "source": [
    "m6 = h2o.get_model(\"XRT_1_AutoML_1_20220110_151432\")\n",
    "\n",
    "m6.varimp(True)\n",
    "m6.varimp_plot()\n"
   ]
  },
  {
   "cell_type": "markdown",
   "metadata": {},
   "source": [
    "## Prediction on the test data"
   ]
  },
  {
   "cell_type": "code",
   "execution_count": 15,
   "metadata": {},
   "outputs": [
    {
     "name": "stdout",
     "output_type": "stream",
     "text": [
      "gbm prediction progress: |███████████████████████████████████████████████████████| (done) 100%\n"
     ]
    },
    {
     "data": {
      "text/html": [
       "<table>\n",
       "<thead>\n",
       "<tr><th style=\"text-align: right;\">  predict</th></tr>\n",
       "</thead>\n",
       "<tbody>\n",
       "<tr><td style=\"text-align: right;\"> -2888.21</td></tr>\n",
       "<tr><td style=\"text-align: right;\"> -1981.28</td></tr>\n",
       "<tr><td style=\"text-align: right;\"> -1872.75</td></tr>\n",
       "<tr><td style=\"text-align: right;\"> -1899.37</td></tr>\n",
       "<tr><td style=\"text-align: right;\"> -2745.07</td></tr>\n",
       "<tr><td style=\"text-align: right;\"> -2825.08</td></tr>\n",
       "<tr><td style=\"text-align: right;\"> -2987.91</td></tr>\n",
       "<tr><td style=\"text-align: right;\"> -1897.74</td></tr>\n",
       "<tr><td style=\"text-align: right;\"> -2050.09</td></tr>\n",
       "<tr><td style=\"text-align: right;\"> -2777.97</td></tr>\n",
       "</tbody>\n",
       "</table>"
      ]
     },
     "metadata": {},
     "output_type": "display_data"
    },
    {
     "data": {
      "text/plain": []
     },
     "execution_count": 15,
     "metadata": {},
     "output_type": "execute_result"
    }
   ],
   "source": [
    "# Predict using the leader model on the test data\n",
    "\n",
    "pred = aml.predict(test)\n",
    "pred.head()\n"
   ]
  },
  {
   "cell_type": "markdown",
   "metadata": {},
   "source": [
    "# Model performance"
   ]
  },
  {
   "cell_type": "code",
   "execution_count": 16,
   "metadata": {},
   "outputs": [
    {
     "name": "stdout",
     "output_type": "stream",
     "text": [
      "\n",
      "ModelMetricsRegression: gbm\n",
      "** Reported on test data. **\n",
      "\n",
      "MSE: 12751.61743257845\n",
      "RMSE: 112.9230597910739\n",
      "MAE: 75.72998235900016\n",
      "RMSLE: NaN\n",
      "Mean Residual Deviance: 12751.61743257845\n"
     ]
    },
    {
     "data": {
      "text/plain": []
     },
     "execution_count": 16,
     "metadata": {},
     "output_type": "execute_result"
    }
   ],
   "source": [
    "# Model performance applied to the AutoML leader model and a test set to generate an H2O model performance object.\n",
    "\n",
    "perf = aml.leader.model_performance(test)\n",
    "perf"
   ]
  },
  {
   "cell_type": "markdown",
   "metadata": {},
   "source": [
    "# Blind well test"
   ]
  },
  {
   "cell_type": "code",
   "execution_count": 17,
   "metadata": {},
   "outputs": [
    {
     "name": "stdout",
     "output_type": "stream",
     "text": [
      "Parse progress: |████████████████████████████████████████████████████████████████| (done) 100%\n"
     ]
    }
   ],
   "source": [
    "#Import blind wells\n",
    "\n",
    "blind=h2o.upload_file(\"/Home/DEF/4/J1040904/Desktop/Projects/Data science/Basement project/Python/AutoML H2O/Final run v3/blind.csv\")"
   ]
  },
  {
   "cell_type": "code",
   "execution_count": 18,
   "metadata": {},
   "outputs": [
    {
     "name": "stdout",
     "output_type": "stream",
     "text": [
      "Rows:22\n",
      "Cols:14\n",
      "\n",
      "\n"
     ]
    },
    {
     "data": {
      "text/html": [
       "<table>\n",
       "<thead>\n",
       "<tr><th>       </th><th>ÃƒÆ’Ã‚Â¯Ãƒâ€šÃ‚Â»Ãƒâ€šÃ‚Â¿well_name  </th><th>long              </th><th>lat               </th><th>augila           </th><th>gialo             </th><th>gir              </th><th>zelten            </th><th>kalash           </th><th>sirte             </th><th>nubian            </th><th>gargaf           </th><th>basement           </th><th>seebase            </th><th>sub-basin                    </th></tr>\n",
       "</thead>\n",
       "<tbody>\n",
       "<tr><td>type   </td><td>string                               </td><td>real              </td><td>real              </td><td>real             </td><td>real              </td><td>real             </td><td>real              </td><td>real             </td><td>real              </td><td>real              </td><td>real             </td><td>real               </td><td>real               </td><td>enum                         </td></tr>\n",
       "<tr><td>mins   </td><td>NaN                                  </td><td>17.963376         </td><td>27.299121         </td><td>34.51292368      </td><td>274.1099732       </td><td>310.52792        </td><td>135.0707145       </td><td>27.5627          </td><td>33.5              </td><td>0.509335          </td><td>24.9825          </td><td>-3400.091441       </td><td>-3856.915996       </td><td>                             </td></tr>\n",
       "<tr><td>mean   </td><td>NaN                                  </td><td>21.032228904761904</td><td>28.24407614285714 </td><td>86.25074024190475</td><td>412.09707852380956</td><td>528.5585106952382</td><td>153.13628499523813</td><td>68.06008095238096</td><td>114.25333333333332</td><td>139.29284404761907</td><td>83.70441904761907</td><td>-2509.8680924285713</td><td>-2534.4625585714284</td><td>                             </td></tr>\n",
       "<tr><td>maxs   </td><td>NaN                                  </td><td>23.397623         </td><td>29.527203         </td><td>144.9433065      </td><td>562.8383321       </td><td>690.0176786      </td><td>206.0808339       </td><td>193.645          </td><td>160.0             </td><td>507.8913          </td><td>357.68           </td><td>-1583.921604       </td><td>-1493.062668       </td><td>                             </td></tr>\n",
       "<tr><td>sigma  </td><td>NaN                                  </td><td>1.2686530103506988</td><td>0.5684200497860086</td><td>24.48874053124939</td><td>73.55339830465054 </td><td>78.67252965394465</td><td>28.0627019933282  </td><td>45.66670135473569</td><td>33.729242110271805</td><td>142.92237899480662</td><td>69.18287682146949</td><td>581.3788083531916  </td><td>636.6732380755241  </td><td>                             </td></tr>\n",
       "<tr><td>zeros  </td><td>0                                    </td><td>0                 </td><td>0                 </td><td>0                </td><td>0                 </td><td>0                </td><td>0                 </td><td>0                </td><td>0                 </td><td>0                 </td><td>0                </td><td>0                  </td><td>0                  </td><td>                             </td></tr>\n",
       "<tr><td>missing</td><td>0                                    </td><td>1                 </td><td>1                 </td><td>1                </td><td>1                 </td><td>1                </td><td>1                 </td><td>1                </td><td>1                 </td><td>1                 </td><td>1                </td><td>1                  </td><td>1                  </td><td>0                            </td></tr>\n",
       "<tr><td>0      </td><td>ï»¿well_name                         </td><td>nan               </td><td>nan               </td><td>nan              </td><td>nan               </td><td>nan              </td><td>nan               </td><td>nan              </td><td>nan               </td><td>nan               </td><td>nan              </td><td>nan                </td><td>nan                </td><td>sub-basin                    </td></tr>\n",
       "<tr><td>1      </td><td>A1-105                               </td><td>21.954682         </td><td>28.375521         </td><td>62.43903926      </td><td>449.8750305       </td><td>512.8048037      </td><td>135.4029505       </td><td>82.5211          </td><td>140.8             </td><td>297.0178          </td><td>71.8641          </td><td>-2983.982565       </td><td>-2976.767861       </td><td>Sarir Trough (Sirte Basin)   </td></tr>\n",
       "<tr><td>2      </td><td>A1-12                                </td><td>21.149383         </td><td>29.132192         </td><td>34.51292368      </td><td>562.8383321       </td><td>624.9664716      </td><td>135.0707145       </td><td>193.645          </td><td>138.6             </td><td>150.7868          </td><td>117.28           </td><td>-2930.050597       </td><td>-3003.541819       </td><td>Rakb High (Sirte Basin)      </td></tr>\n",
       "<tr><td>3      </td><td>A1-126                               </td><td>20.828549         </td><td>28.16357          </td><td>100.9601317      </td><td>396.5618142       </td><td>637.664594       </td><td>135.4181907       </td><td>54.5229          </td><td>157.3             </td><td>507.8913          </td><td>98.32            </td><td>-3203.614972       </td><td>-3295.281639       </td><td>Zelten Platform (Sirte Basin)</td></tr>\n",
       "<tr><td>4      </td><td>A1-135                               </td><td>22.395253         </td><td>27.318013         </td><td>85.63155328      </td><td>394.5653499       </td><td>477.9230675      </td><td>135.4029505       </td><td>27.5627          </td><td>105.7             </td><td>102.293           </td><td>27.2658          </td><td>-2538.371739       </td><td>-2494.03804        </td><td>Sarir Trough (Sirte Basin)   </td></tr>\n",
       "<tr><td>5      </td><td>A1-57                                </td><td>17.963376         </td><td>28.727395         </td><td>85.67117776      </td><td>396.543526        </td><td>690.0176786      </td><td>143.1114362       </td><td>71.107           </td><td>61.0              </td><td>19.4722           </td><td>133.753          </td><td>-1583.921604       </td><td>-1493.062668       </td><td>Dahra Platform (Sirte Basin) </td></tr>\n",
       "<tr><td>6      </td><td>A1-59e                               </td><td>20.53227          </td><td>28.395377         </td><td>144.9433065      </td><td>529.5507193       </td><td>606.2118995      </td><td>136.6404535       </td><td>62.6518          </td><td>82.6              </td><td>277.7412          </td><td>71.3842          </td><td>-3338.255913       </td><td>-3227.947452       </td><td>Zelten Platform (Sirte Basin)</td></tr>\n",
       "<tr><td>7      </td><td>A1-65                                </td><td>21.602458         </td><td>27.427177         </td><td>77.24945135      </td><td>281.5410875       </td><td>516.9013655      </td><td>135.4029505       </td><td>47.0163          </td><td>101.9             </td><td>76.8849           </td><td>24.9825          </td><td>-2045.101804       </td><td>-2172.692636       </td><td>Sarir Trough (Sirte Basin)   </td></tr>\n",
       "<tr><td>8      </td><td>A1-82                                </td><td>22.699414         </td><td>29.527203         </td><td>40.39868325      </td><td>380.9924409       </td><td>310.52792        </td><td>135.4029505       </td><td>122.612          </td><td>33.5              </td><td>98.2777           </td><td>357.68           </td><td>-2464.664106       </td><td>-2427.100098       </td><td>Jaghbub Uplift               </td></tr>\n",
       "<tr><td>9      </td><td>A1-Lp6d                              </td><td>21.668571         </td><td>27.299121         </td><td>85.59497683      </td><td>395.1109485       </td><td>440.7187271      </td><td>135.4029505       </td><td>47.8616          </td><td>99.1              </td><td>96.8337           </td><td>24.9825          </td><td>-2673.933187       </td><td>-2870.799805       </td><td>Sarir Trough (Sirte Basin)   </td></tr>\n",
       "</tbody>\n",
       "</table>"
      ]
     },
     "metadata": {},
     "output_type": "display_data"
    }
   ],
   "source": [
    "blind.describe()"
   ]
  },
  {
   "cell_type": "code",
   "execution_count": 19,
   "metadata": {},
   "outputs": [
    {
     "name": "stdout",
     "output_type": "stream",
     "text": [
      "gbm prediction progress: |███████████████████████████████████████████████████████| (done) 100%\n"
     ]
    },
    {
     "data": {
      "text/html": [
       "<table>\n",
       "<thead>\n",
       "<tr><th style=\"text-align: right;\">  predict</th></tr>\n",
       "</thead>\n",
       "<tbody>\n",
       "<tr><td style=\"text-align: right;\"> -2888.21</td></tr>\n",
       "<tr><td style=\"text-align: right;\"> -3072.64</td></tr>\n",
       "<tr><td style=\"text-align: right;\"> -2895.17</td></tr>\n",
       "<tr><td style=\"text-align: right;\"> -2959.85</td></tr>\n",
       "<tr><td style=\"text-align: right;\"> -2543.45</td></tr>\n",
       "<tr><td style=\"text-align: right;\"> -1523.1 </td></tr>\n",
       "<tr><td style=\"text-align: right;\"> -3063.19</td></tr>\n",
       "<tr><td style=\"text-align: right;\"> -2178.49</td></tr>\n",
       "<tr><td style=\"text-align: right;\"> -2398.88</td></tr>\n",
       "<tr><td style=\"text-align: right;\"> -2763.51</td></tr>\n",
       "</tbody>\n",
       "</table>"
      ]
     },
     "metadata": {},
     "output_type": "display_data"
    },
    {
     "data": {
      "text/plain": []
     },
     "execution_count": 19,
     "metadata": {},
     "output_type": "execute_result"
    }
   ],
   "source": [
    "pred_blind = aml.predict(blind)\n",
    "pred_blind.head()"
   ]
  },
  {
   "cell_type": "code",
   "execution_count": 20,
   "metadata": {},
   "outputs": [
    {
     "name": "stdout",
     "output_type": "stream",
     "text": [
      "Rows:22\n",
      "Cols:1\n",
      "\n",
      "\n"
     ]
    },
    {
     "data": {
      "text/html": [
       "<table>\n",
       "<thead>\n",
       "<tr><th>       </th><th>predict            </th></tr>\n",
       "</thead>\n",
       "<tbody>\n",
       "<tr><td>type   </td><td>real               </td></tr>\n",
       "<tr><td>mins   </td><td>-3625.7384124613736</td></tr>\n",
       "<tr><td>mean   </td><td>-2498.381260171684 </td></tr>\n",
       "<tr><td>maxs   </td><td>-1523.0962620928321</td></tr>\n",
       "<tr><td>sigma  </td><td>567.4201476796316  </td></tr>\n",
       "<tr><td>zeros  </td><td>0                  </td></tr>\n",
       "<tr><td>missing</td><td>0                  </td></tr>\n",
       "<tr><td>0      </td><td>-2888.214735574219 </td></tr>\n",
       "<tr><td>1      </td><td>-3072.6374572456252</td></tr>\n",
       "<tr><td>2      </td><td>-2895.169460444841 </td></tr>\n",
       "<tr><td>3      </td><td>-2959.852251640651 </td></tr>\n",
       "<tr><td>4      </td><td>-2543.4505390926633</td></tr>\n",
       "<tr><td>5      </td><td>-1523.0962620928321</td></tr>\n",
       "<tr><td>6      </td><td>-3063.193573146257 </td></tr>\n",
       "<tr><td>7      </td><td>-2178.49068590546  </td></tr>\n",
       "<tr><td>8      </td><td>-2398.881571806166 </td></tr>\n",
       "<tr><td>9      </td><td>-2763.507596108261 </td></tr>\n",
       "</tbody>\n",
       "</table>"
      ]
     },
     "metadata": {},
     "output_type": "display_data"
    }
   ],
   "source": [
    "pred_blind.describe()"
   ]
  },
  {
   "cell_type": "code",
   "execution_count": 21,
   "metadata": {},
   "outputs": [
    {
     "name": "stdout",
     "output_type": "stream",
     "text": [
      "\n",
      "ModelMetricsRegression: gbm\n",
      "** Reported on test data. **\n",
      "\n",
      "MSE: 15120.65622146726\n",
      "RMSE: 122.96607752330421\n",
      "MAE: 85.93755803644659\n",
      "RMSLE: NaN\n",
      "Mean Residual Deviance: 15120.65622146726\n"
     ]
    },
    {
     "data": {
      "text/plain": []
     },
     "execution_count": 21,
     "metadata": {},
     "output_type": "execute_result"
    }
   ],
   "source": [
    "perf_blind = aml.leader.model_performance(blind)\n",
    "perf_blind"
   ]
  },
  {
   "cell_type": "code",
   "execution_count": 22,
   "metadata": {},
   "outputs": [
    {
     "data": {
      "text/html": [
       "<table>\n",
       "<thead>\n",
       "<tr><th>ÃƒÆ’Ã‚Â¯Ãƒâ€šÃ‚Â»Ãƒâ€šÃ‚Â¿well_name  </th><th style=\"text-align: right;\">    long</th><th style=\"text-align: right;\">     lat</th><th style=\"text-align: right;\">  augila</th><th style=\"text-align: right;\">  gialo</th><th style=\"text-align: right;\">    gir</th><th style=\"text-align: right;\">  zelten</th><th style=\"text-align: right;\">  kalash</th><th style=\"text-align: right;\">  sirte</th><th style=\"text-align: right;\">  nubian</th><th style=\"text-align: right;\">  gargaf</th><th style=\"text-align: right;\">  basement</th><th style=\"text-align: right;\">  seebase</th><th>sub-basin                    </th><th style=\"text-align: right;\">  predict</th></tr>\n",
       "</thead>\n",
       "<tbody>\n",
       "<tr><td>ï»¿well_name                         </td><td style=\"text-align: right;\">nan     </td><td style=\"text-align: right;\">nan     </td><td style=\"text-align: right;\">nan     </td><td style=\"text-align: right;\">nan    </td><td style=\"text-align: right;\">nan    </td><td style=\"text-align: right;\"> nan    </td><td style=\"text-align: right;\">nan     </td><td style=\"text-align: right;\">  nan  </td><td style=\"text-align: right;\">nan     </td><td style=\"text-align: right;\">nan     </td><td style=\"text-align: right;\">    nan   </td><td style=\"text-align: right;\">   nan   </td><td>sub-basin                    </td><td style=\"text-align: right;\"> -2888.21</td></tr>\n",
       "<tr><td>A1-105                               </td><td style=\"text-align: right;\"> 21.9547</td><td style=\"text-align: right;\"> 28.3755</td><td style=\"text-align: right;\"> 62.439 </td><td style=\"text-align: right;\">449.875</td><td style=\"text-align: right;\">512.805</td><td style=\"text-align: right;\"> 135.403</td><td style=\"text-align: right;\"> 82.5211</td><td style=\"text-align: right;\">  140.8</td><td style=\"text-align: right;\">297.018 </td><td style=\"text-align: right;\"> 71.8641</td><td style=\"text-align: right;\">  -2983.98</td><td style=\"text-align: right;\"> -2976.77</td><td>Sarir Trough (Sirte Basin)   </td><td style=\"text-align: right;\"> -3072.64</td></tr>\n",
       "<tr><td>A1-12                                </td><td style=\"text-align: right;\"> 21.1494</td><td style=\"text-align: right;\"> 29.1322</td><td style=\"text-align: right;\"> 34.5129</td><td style=\"text-align: right;\">562.838</td><td style=\"text-align: right;\">624.966</td><td style=\"text-align: right;\"> 135.071</td><td style=\"text-align: right;\">193.645 </td><td style=\"text-align: right;\">  138.6</td><td style=\"text-align: right;\">150.787 </td><td style=\"text-align: right;\">117.28  </td><td style=\"text-align: right;\">  -2930.05</td><td style=\"text-align: right;\"> -3003.54</td><td>Rakb High (Sirte Basin)      </td><td style=\"text-align: right;\"> -2895.17</td></tr>\n",
       "<tr><td>A1-126                               </td><td style=\"text-align: right;\"> 20.8285</td><td style=\"text-align: right;\"> 28.1636</td><td style=\"text-align: right;\">100.96  </td><td style=\"text-align: right;\">396.562</td><td style=\"text-align: right;\">637.665</td><td style=\"text-align: right;\"> 135.418</td><td style=\"text-align: right;\"> 54.5229</td><td style=\"text-align: right;\">  157.3</td><td style=\"text-align: right;\">507.891 </td><td style=\"text-align: right;\"> 98.32  </td><td style=\"text-align: right;\">  -3203.61</td><td style=\"text-align: right;\"> -3295.28</td><td>Zelten Platform (Sirte Basin)</td><td style=\"text-align: right;\"> -2959.85</td></tr>\n",
       "<tr><td>A1-135                               </td><td style=\"text-align: right;\"> 22.3953</td><td style=\"text-align: right;\"> 27.318 </td><td style=\"text-align: right;\"> 85.6316</td><td style=\"text-align: right;\">394.565</td><td style=\"text-align: right;\">477.923</td><td style=\"text-align: right;\"> 135.403</td><td style=\"text-align: right;\"> 27.5627</td><td style=\"text-align: right;\">  105.7</td><td style=\"text-align: right;\">102.293 </td><td style=\"text-align: right;\"> 27.2658</td><td style=\"text-align: right;\">  -2538.37</td><td style=\"text-align: right;\"> -2494.04</td><td>Sarir Trough (Sirte Basin)   </td><td style=\"text-align: right;\"> -2543.45</td></tr>\n",
       "<tr><td>A1-57                                </td><td style=\"text-align: right;\"> 17.9634</td><td style=\"text-align: right;\"> 28.7274</td><td style=\"text-align: right;\"> 85.6712</td><td style=\"text-align: right;\">396.544</td><td style=\"text-align: right;\">690.018</td><td style=\"text-align: right;\"> 143.111</td><td style=\"text-align: right;\"> 71.107 </td><td style=\"text-align: right;\">   61  </td><td style=\"text-align: right;\"> 19.4722</td><td style=\"text-align: right;\">133.753 </td><td style=\"text-align: right;\">  -1583.92</td><td style=\"text-align: right;\"> -1493.06</td><td>Dahra Platform (Sirte Basin) </td><td style=\"text-align: right;\"> -1523.1 </td></tr>\n",
       "<tr><td>A1-59e                               </td><td style=\"text-align: right;\"> 20.5323</td><td style=\"text-align: right;\"> 28.3954</td><td style=\"text-align: right;\">144.943 </td><td style=\"text-align: right;\">529.551</td><td style=\"text-align: right;\">606.212</td><td style=\"text-align: right;\"> 136.64 </td><td style=\"text-align: right;\"> 62.6518</td><td style=\"text-align: right;\">   82.6</td><td style=\"text-align: right;\">277.741 </td><td style=\"text-align: right;\"> 71.3842</td><td style=\"text-align: right;\">  -3338.26</td><td style=\"text-align: right;\"> -3227.95</td><td>Zelten Platform (Sirte Basin)</td><td style=\"text-align: right;\"> -3063.19</td></tr>\n",
       "<tr><td>A1-65                                </td><td style=\"text-align: right;\"> 21.6025</td><td style=\"text-align: right;\"> 27.4272</td><td style=\"text-align: right;\"> 77.2495</td><td style=\"text-align: right;\">281.541</td><td style=\"text-align: right;\">516.901</td><td style=\"text-align: right;\"> 135.403</td><td style=\"text-align: right;\"> 47.0163</td><td style=\"text-align: right;\">  101.9</td><td style=\"text-align: right;\"> 76.8849</td><td style=\"text-align: right;\"> 24.9825</td><td style=\"text-align: right;\">  -2045.1 </td><td style=\"text-align: right;\"> -2172.69</td><td>Sarir Trough (Sirte Basin)   </td><td style=\"text-align: right;\"> -2178.49</td></tr>\n",
       "<tr><td>A1-82                                </td><td style=\"text-align: right;\"> 22.6994</td><td style=\"text-align: right;\"> 29.5272</td><td style=\"text-align: right;\"> 40.3987</td><td style=\"text-align: right;\">380.992</td><td style=\"text-align: right;\">310.528</td><td style=\"text-align: right;\"> 135.403</td><td style=\"text-align: right;\">122.612 </td><td style=\"text-align: right;\">   33.5</td><td style=\"text-align: right;\"> 98.2777</td><td style=\"text-align: right;\">357.68  </td><td style=\"text-align: right;\">  -2464.66</td><td style=\"text-align: right;\"> -2427.1 </td><td>Jaghbub Uplift               </td><td style=\"text-align: right;\"> -2398.88</td></tr>\n",
       "<tr><td>A1-Lp6d                              </td><td style=\"text-align: right;\"> 21.6686</td><td style=\"text-align: right;\"> 27.2991</td><td style=\"text-align: right;\"> 85.595 </td><td style=\"text-align: right;\">395.111</td><td style=\"text-align: right;\">440.719</td><td style=\"text-align: right;\"> 135.403</td><td style=\"text-align: right;\"> 47.8616</td><td style=\"text-align: right;\">   99.1</td><td style=\"text-align: right;\"> 96.8337</td><td style=\"text-align: right;\"> 24.9825</td><td style=\"text-align: right;\">  -2673.93</td><td style=\"text-align: right;\"> -2870.8 </td><td>Sarir Trough (Sirte Basin)   </td><td style=\"text-align: right;\"> -2763.51</td></tr>\n",
       "</tbody>\n",
       "</table>"
      ]
     },
     "metadata": {},
     "output_type": "display_data"
    },
    {
     "data": {
      "text/plain": [
       "<bound method H2OFrame.describe of >"
      ]
     },
     "execution_count": 22,
     "metadata": {},
     "output_type": "execute_result"
    }
   ],
   "source": [
    "# combine prediction \n",
    "import numpy as np\n",
    "blind_predicted=blind.cbind(pred_blind)\n",
    "blind_predicted.describe"
   ]
  },
  {
   "cell_type": "code",
   "execution_count": 23,
   "metadata": {},
   "outputs": [
    {
     "name": "stdout",
     "output_type": "stream",
     "text": [
      "Export File progress: |██████████████████████████████████████████████████████████| (done) 100%\n"
     ]
    }
   ],
   "source": [
    "h2o.export_file(blind_predicted, path = \"/Home/DEF/4/J1040904/Desktop/Projects/Data science/Basement project/Python/AutoML H2O/Final run v3/blind_predicted.csv\", force = True)"
   ]
  },
  {
   "cell_type": "markdown",
   "metadata": {},
   "source": [
    "# Prediction on all the wells"
   ]
  },
  {
   "cell_type": "code",
   "execution_count": 24,
   "metadata": {},
   "outputs": [
    {
     "name": "stdout",
     "output_type": "stream",
     "text": [
      "Parse progress: |████████████████████████████████████████████████████████████████| (done) 100%\n",
      "Rows:7318\n",
      "Cols:13\n",
      "\n",
      "\n"
     ]
    },
    {
     "data": {
      "text/html": [
       "<table>\n",
       "<thead>\n",
       "<tr><th>       </th><th>well_name  </th><th>long              </th><th>lat               </th><th>augila           </th><th>gialo             </th><th>gir               </th><th>zelten            </th><th>kalash            </th><th>sirte             </th><th>nubian            </th><th>gargaf           </th><th>seebase           </th><th>sub-basin                    </th></tr>\n",
       "</thead>\n",
       "<tbody>\n",
       "<tr><td>type   </td><td>string     </td><td>real              </td><td>real              </td><td>real             </td><td>real              </td><td>real              </td><td>real              </td><td>real              </td><td>real              </td><td>real              </td><td>real             </td><td>real              </td><td>enum                         </td></tr>\n",
       "<tr><td>mins   </td><td>NaN        </td><td>14.434308         </td><td>25.234214         </td><td>17.0274          </td><td>0.0               </td><td>61.316            </td><td>0.0               </td><td>0.004362          </td><td>12.4892           </td><td>0.25              </td><td>3.82149          </td><td>-10821.11328      </td><td>                             </td></tr>\n",
       "<tr><td>mean   </td><td>NaN        </td><td>20.038720562858778</td><td>28.851988684066725</td><td>83.48292383938248</td><td>357.20961836537316</td><td>516.3874284927286 </td><td>111.49827080631066</td><td>105.51403013063681</td><td>154.00486434927632</td><td>163.73632256641153</td><td>71.95381084722578</td><td>-3362.712397660428</td><td>                             </td></tr>\n",
       "<tr><td>maxs   </td><td>NaN        </td><td>24.959444         </td><td>33.2171           </td><td>244.926          </td><td>1050.4            </td><td>947.322           </td><td>266.847           </td><td>259.143           </td><td>525.822           </td><td>2517.78           </td><td>357.68           </td><td>-716.175598       </td><td>                             </td></tr>\n",
       "<tr><td>sigma  </td><td>NaN        </td><td>1.6872293456291336</td><td>0.7640523465579052</td><td>33.48331594186931</td><td>218.09035762702246</td><td>109.51959350565345</td><td>54.35664854974474 </td><td>61.2450009530029  </td><td>81.84525044905438 </td><td>193.62462229900987</td><td>44.27892083504639</td><td>1366.0223237058385</td><td>                             </td></tr>\n",
       "<tr><td>zeros  </td><td>0          </td><td>0                 </td><td>0                 </td><td>0                </td><td>17                </td><td>0                 </td><td>90                </td><td>0                 </td><td>0                 </td><td>0                 </td><td>0                </td><td>0                 </td><td>                             </td></tr>\n",
       "<tr><td>missing</td><td>0          </td><td>0                 </td><td>0                 </td><td>0                </td><td>0                 </td><td>0                 </td><td>0                 </td><td>0                 </td><td>0                 </td><td>0                 </td><td>0                </td><td>0                 </td><td>0                            </td></tr>\n",
       "<tr><td>0      </td><td>A1-105     </td><td>21.954682         </td><td>28.375521         </td><td>62.43903926      </td><td>449.8750305       </td><td>512.8048037       </td><td>135.4029505       </td><td>82.5211           </td><td>140.8             </td><td>297.0178          </td><td>71.8641          </td><td>-2976.767861      </td><td>Sarir Trough (Sirte Basin)   </td></tr>\n",
       "<tr><td>1      </td><td>A1-12      </td><td>21.149383         </td><td>29.132192         </td><td>34.51292368      </td><td>562.8383321       </td><td>624.9664716       </td><td>135.0707145       </td><td>193.645           </td><td>138.6             </td><td>150.7868          </td><td>117.28           </td><td>-3003.541819      </td><td>Rakb High (Sirte Basin)      </td></tr>\n",
       "<tr><td>2      </td><td>A1-126     </td><td>20.828549         </td><td>28.16357          </td><td>100.9601317      </td><td>396.5618142       </td><td>637.664594        </td><td>135.4181907       </td><td>54.5229           </td><td>157.3             </td><td>507.8913          </td><td>98.32            </td><td>-3295.281639      </td><td>Zelten Platform (Sirte Basin)</td></tr>\n",
       "<tr><td>3      </td><td>A1-135     </td><td>22.395253         </td><td>27.318013         </td><td>85.63155328      </td><td>394.5653499       </td><td>477.9230675       </td><td>135.4029505       </td><td>27.5627           </td><td>105.7             </td><td>102.293           </td><td>27.2658          </td><td>-2494.03804       </td><td>Sarir Trough (Sirte Basin)   </td></tr>\n",
       "<tr><td>4      </td><td>A1-57      </td><td>17.963376         </td><td>28.727395         </td><td>85.67117776      </td><td>396.543526        </td><td>690.0176786       </td><td>143.1114362       </td><td>71.107            </td><td>61.0              </td><td>19.4722           </td><td>133.753          </td><td>-1493.062668      </td><td>Dahra Platform (Sirte Basin) </td></tr>\n",
       "<tr><td>5      </td><td>A1-59e     </td><td>20.53227          </td><td>28.395377         </td><td>144.9433065      </td><td>529.5507193       </td><td>606.2118995       </td><td>136.6404535       </td><td>62.6518           </td><td>82.6              </td><td>277.7412          </td><td>71.3842          </td><td>-3227.947452      </td><td>Zelten Platform (Sirte Basin)</td></tr>\n",
       "<tr><td>6      </td><td>A1-65      </td><td>21.602458         </td><td>27.427177         </td><td>77.24945135      </td><td>281.5410875       </td><td>516.9013655       </td><td>135.4029505       </td><td>47.0163           </td><td>101.9             </td><td>76.8849           </td><td>24.9825          </td><td>-2172.692636      </td><td>Sarir Trough (Sirte Basin)   </td></tr>\n",
       "<tr><td>7      </td><td>A1-82      </td><td>22.699414         </td><td>29.527203         </td><td>40.39868325      </td><td>380.9924409       </td><td>310.52792         </td><td>135.4029505       </td><td>122.612           </td><td>33.5              </td><td>98.2777           </td><td>357.68           </td><td>-2427.100098      </td><td>Jaghbub Uplift               </td></tr>\n",
       "<tr><td>8      </td><td>A1-Lp6d    </td><td>21.668571         </td><td>27.299121         </td><td>85.59497683      </td><td>395.1109485       </td><td>440.7187271       </td><td>135.4029505       </td><td>47.8616           </td><td>99.1              </td><td>96.8337           </td><td>24.9825          </td><td>-2870.799805      </td><td>Sarir Trough (Sirte Basin)   </td></tr>\n",
       "<tr><td>9      </td><td>A1-Nc157   </td><td>20.720329         </td><td>28.35899          </td><td>85.88454036      </td><td>545.7967569       </td><td>609.3239454       </td><td>135.3968544       </td><td>90.4932           </td><td>132.26            </td><td>214.9868          </td><td>99.67            </td><td>-3856.915996      </td><td>Zelten Platform (Sirte Basin)</td></tr>\n",
       "</tbody>\n",
       "</table>"
      ]
     },
     "metadata": {},
     "output_type": "display_data"
    }
   ],
   "source": [
    "all_wells=h2o.upload_file(\"/Home/DEF/4/J1040904/Desktop/Projects/Data science/Basement project/Python/AutoML H2O/Final run v3/all_wells.csv\")\n",
    "all_wells.describe()"
   ]
  },
  {
   "cell_type": "code",
   "execution_count": 35,
   "metadata": {},
   "outputs": [
    {
     "name": "stdout",
     "output_type": "stream",
     "text": [
      "drf prediction progress: |███████████████████████████████████████████████████████| (done) 100%\n"
     ]
    },
    {
     "data": {
      "text/html": [
       "<table>\n",
       "<thead>\n",
       "<tr><th style=\"text-align: right;\">  predict</th></tr>\n",
       "</thead>\n",
       "<tbody>\n",
       "<tr><td style=\"text-align: right;\"> -3099.39</td></tr>\n",
       "<tr><td style=\"text-align: right;\"> -2920.91</td></tr>\n",
       "<tr><td style=\"text-align: right;\"> -3228.57</td></tr>\n",
       "<tr><td style=\"text-align: right;\"> -2559.9 </td></tr>\n",
       "<tr><td style=\"text-align: right;\"> -1677.34</td></tr>\n",
       "<tr><td style=\"text-align: right;\"> -3113.71</td></tr>\n",
       "<tr><td style=\"text-align: right;\"> -2289.19</td></tr>\n",
       "<tr><td style=\"text-align: right;\"> -2414.91</td></tr>\n",
       "<tr><td style=\"text-align: right;\"> -2681.67</td></tr>\n",
       "<tr><td style=\"text-align: right;\"> -3518.83</td></tr>\n",
       "</tbody>\n",
       "</table>"
      ]
     },
     "metadata": {},
     "output_type": "display_data"
    },
    {
     "data": {
      "text/plain": []
     },
     "execution_count": 35,
     "metadata": {},
     "output_type": "execute_result"
    }
   ],
   "source": [
    "#put .aml for using the best model. To predict using a different model, retrieve a model from the list (give it a name, ex .m2) and use it here before .predict\n",
    "\n",
    "pred_all_wells = aml.predict(all_wells)\n",
    "pred_all_wells.head()"
   ]
  },
  {
   "cell_type": "code",
   "execution_count": 26,
   "metadata": {},
   "outputs": [
    {
     "name": "stdout",
     "output_type": "stream",
     "text": [
      "Rows:7318\n",
      "Cols:1\n",
      "\n",
      "\n"
     ]
    },
    {
     "data": {
      "text/html": [
       "<table>\n",
       "<thead>\n",
       "<tr><th>       </th><th>predict            </th></tr>\n",
       "</thead>\n",
       "<tbody>\n",
       "<tr><td>type   </td><td>real               </td></tr>\n",
       "<tr><td>mins   </td><td>-4272.678177050445 </td></tr>\n",
       "<tr><td>mean   </td><td>-2816.4137264746055</td></tr>\n",
       "<tr><td>maxs   </td><td>-1381.9187695301507</td></tr>\n",
       "<tr><td>sigma  </td><td>663.834591380913   </td></tr>\n",
       "<tr><td>zeros  </td><td>0                  </td></tr>\n",
       "<tr><td>missing</td><td>0                  </td></tr>\n",
       "<tr><td>0      </td><td>-3072.6374572456252</td></tr>\n",
       "<tr><td>1      </td><td>-2895.169460444841 </td></tr>\n",
       "<tr><td>2      </td><td>-2959.852251640651 </td></tr>\n",
       "<tr><td>3      </td><td>-2543.4505390926633</td></tr>\n",
       "<tr><td>4      </td><td>-1523.0962620928321</td></tr>\n",
       "<tr><td>5      </td><td>-3063.193573146257 </td></tr>\n",
       "<tr><td>6      </td><td>-2178.49068590546  </td></tr>\n",
       "<tr><td>7      </td><td>-2398.881571806166 </td></tr>\n",
       "<tr><td>8      </td><td>-2763.507596108261 </td></tr>\n",
       "<tr><td>9      </td><td>-3625.7384124613736</td></tr>\n",
       "</tbody>\n",
       "</table>"
      ]
     },
     "metadata": {},
     "output_type": "display_data"
    }
   ],
   "source": [
    "pred_all_wells.describe()"
   ]
  },
  {
   "cell_type": "markdown",
   "metadata": {},
   "source": [
    "# Combine columns and export data"
   ]
  },
  {
   "cell_type": "code",
   "execution_count": 36,
   "metadata": {},
   "outputs": [
    {
     "data": {
      "text/html": [
       "<table>\n",
       "<thead>\n",
       "<tr><th>well_name  </th><th style=\"text-align: right;\">   long</th><th style=\"text-align: right;\">    lat</th><th style=\"text-align: right;\">  augila</th><th style=\"text-align: right;\">  gialo</th><th style=\"text-align: right;\">    gir</th><th style=\"text-align: right;\">  zelten</th><th style=\"text-align: right;\">  kalash</th><th style=\"text-align: right;\">  sirte</th><th style=\"text-align: right;\">  nubian</th><th style=\"text-align: right;\">  gargaf</th><th style=\"text-align: right;\">  seebase</th><th>sub-basin                    </th><th style=\"text-align: right;\">  predict</th></tr>\n",
       "</thead>\n",
       "<tbody>\n",
       "<tr><td>A1-105     </td><td style=\"text-align: right;\">21.9547</td><td style=\"text-align: right;\">28.3755</td><td style=\"text-align: right;\"> 62.439 </td><td style=\"text-align: right;\">449.875</td><td style=\"text-align: right;\">512.805</td><td style=\"text-align: right;\"> 135.403</td><td style=\"text-align: right;\"> 82.5211</td><td style=\"text-align: right;\"> 140.8 </td><td style=\"text-align: right;\">297.018 </td><td style=\"text-align: right;\"> 71.8641</td><td style=\"text-align: right;\"> -2976.77</td><td>Sarir Trough (Sirte Basin)   </td><td style=\"text-align: right;\"> -3099.39</td></tr>\n",
       "<tr><td>A1-12      </td><td style=\"text-align: right;\">21.1494</td><td style=\"text-align: right;\">29.1322</td><td style=\"text-align: right;\"> 34.5129</td><td style=\"text-align: right;\">562.838</td><td style=\"text-align: right;\">624.966</td><td style=\"text-align: right;\"> 135.071</td><td style=\"text-align: right;\">193.645 </td><td style=\"text-align: right;\"> 138.6 </td><td style=\"text-align: right;\">150.787 </td><td style=\"text-align: right;\">117.28  </td><td style=\"text-align: right;\"> -3003.54</td><td>Rakb High (Sirte Basin)      </td><td style=\"text-align: right;\"> -2920.91</td></tr>\n",
       "<tr><td>A1-126     </td><td style=\"text-align: right;\">20.8285</td><td style=\"text-align: right;\">28.1636</td><td style=\"text-align: right;\">100.96  </td><td style=\"text-align: right;\">396.562</td><td style=\"text-align: right;\">637.665</td><td style=\"text-align: right;\"> 135.418</td><td style=\"text-align: right;\"> 54.5229</td><td style=\"text-align: right;\"> 157.3 </td><td style=\"text-align: right;\">507.891 </td><td style=\"text-align: right;\"> 98.32  </td><td style=\"text-align: right;\"> -3295.28</td><td>Zelten Platform (Sirte Basin)</td><td style=\"text-align: right;\"> -3228.57</td></tr>\n",
       "<tr><td>A1-135     </td><td style=\"text-align: right;\">22.3953</td><td style=\"text-align: right;\">27.318 </td><td style=\"text-align: right;\"> 85.6316</td><td style=\"text-align: right;\">394.565</td><td style=\"text-align: right;\">477.923</td><td style=\"text-align: right;\"> 135.403</td><td style=\"text-align: right;\"> 27.5627</td><td style=\"text-align: right;\"> 105.7 </td><td style=\"text-align: right;\">102.293 </td><td style=\"text-align: right;\"> 27.2658</td><td style=\"text-align: right;\"> -2494.04</td><td>Sarir Trough (Sirte Basin)   </td><td style=\"text-align: right;\"> -2559.9 </td></tr>\n",
       "<tr><td>A1-57      </td><td style=\"text-align: right;\">17.9634</td><td style=\"text-align: right;\">28.7274</td><td style=\"text-align: right;\"> 85.6712</td><td style=\"text-align: right;\">396.544</td><td style=\"text-align: right;\">690.018</td><td style=\"text-align: right;\"> 143.111</td><td style=\"text-align: right;\"> 71.107 </td><td style=\"text-align: right;\">  61   </td><td style=\"text-align: right;\"> 19.4722</td><td style=\"text-align: right;\">133.753 </td><td style=\"text-align: right;\"> -1493.06</td><td>Dahra Platform (Sirte Basin) </td><td style=\"text-align: right;\"> -1677.34</td></tr>\n",
       "<tr><td>A1-59e     </td><td style=\"text-align: right;\">20.5323</td><td style=\"text-align: right;\">28.3954</td><td style=\"text-align: right;\">144.943 </td><td style=\"text-align: right;\">529.551</td><td style=\"text-align: right;\">606.212</td><td style=\"text-align: right;\"> 136.64 </td><td style=\"text-align: right;\"> 62.6518</td><td style=\"text-align: right;\">  82.6 </td><td style=\"text-align: right;\">277.741 </td><td style=\"text-align: right;\"> 71.3842</td><td style=\"text-align: right;\"> -3227.95</td><td>Zelten Platform (Sirte Basin)</td><td style=\"text-align: right;\"> -3113.71</td></tr>\n",
       "<tr><td>A1-65      </td><td style=\"text-align: right;\">21.6025</td><td style=\"text-align: right;\">27.4272</td><td style=\"text-align: right;\"> 77.2495</td><td style=\"text-align: right;\">281.541</td><td style=\"text-align: right;\">516.901</td><td style=\"text-align: right;\"> 135.403</td><td style=\"text-align: right;\"> 47.0163</td><td style=\"text-align: right;\"> 101.9 </td><td style=\"text-align: right;\"> 76.8849</td><td style=\"text-align: right;\"> 24.9825</td><td style=\"text-align: right;\"> -2172.69</td><td>Sarir Trough (Sirte Basin)   </td><td style=\"text-align: right;\"> -2289.19</td></tr>\n",
       "<tr><td>A1-82      </td><td style=\"text-align: right;\">22.6994</td><td style=\"text-align: right;\">29.5272</td><td style=\"text-align: right;\"> 40.3987</td><td style=\"text-align: right;\">380.992</td><td style=\"text-align: right;\">310.528</td><td style=\"text-align: right;\"> 135.403</td><td style=\"text-align: right;\">122.612 </td><td style=\"text-align: right;\">  33.5 </td><td style=\"text-align: right;\"> 98.2777</td><td style=\"text-align: right;\">357.68  </td><td style=\"text-align: right;\"> -2427.1 </td><td>Jaghbub Uplift               </td><td style=\"text-align: right;\"> -2414.91</td></tr>\n",
       "<tr><td>A1-Lp6d    </td><td style=\"text-align: right;\">21.6686</td><td style=\"text-align: right;\">27.2991</td><td style=\"text-align: right;\"> 85.595 </td><td style=\"text-align: right;\">395.111</td><td style=\"text-align: right;\">440.719</td><td style=\"text-align: right;\"> 135.403</td><td style=\"text-align: right;\"> 47.8616</td><td style=\"text-align: right;\">  99.1 </td><td style=\"text-align: right;\"> 96.8337</td><td style=\"text-align: right;\"> 24.9825</td><td style=\"text-align: right;\"> -2870.8 </td><td>Sarir Trough (Sirte Basin)   </td><td style=\"text-align: right;\"> -2681.67</td></tr>\n",
       "<tr><td>A1-Nc157   </td><td style=\"text-align: right;\">20.7203</td><td style=\"text-align: right;\">28.359 </td><td style=\"text-align: right;\"> 85.8845</td><td style=\"text-align: right;\">545.797</td><td style=\"text-align: right;\">609.324</td><td style=\"text-align: right;\"> 135.397</td><td style=\"text-align: right;\"> 90.4932</td><td style=\"text-align: right;\"> 132.26</td><td style=\"text-align: right;\">214.987 </td><td style=\"text-align: right;\"> 99.67  </td><td style=\"text-align: right;\"> -3856.92</td><td>Zelten Platform (Sirte Basin)</td><td style=\"text-align: right;\"> -3518.83</td></tr>\n",
       "</tbody>\n",
       "</table>"
      ]
     },
     "metadata": {},
     "output_type": "display_data"
    },
    {
     "data": {
      "text/plain": [
       "<bound method H2OFrame.describe of >"
      ]
     },
     "execution_count": 36,
     "metadata": {},
     "output_type": "execute_result"
    }
   ],
   "source": [
    "import numpy as np\n",
    "final_wells=all_wells.cbind(pred_all_wells)\n",
    "final_wells.describe"
   ]
  },
  {
   "cell_type": "code",
   "execution_count": 37,
   "metadata": {},
   "outputs": [
    {
     "name": "stdout",
     "output_type": "stream",
     "text": [
      "Export File progress: |██████████████████████████████████████████████████████████| (done) 100%\n"
     ]
    }
   ],
   "source": [
    "h2o.export_file(final_wells, path = \"/Home/DEF/4/J1040904/Desktop/Projects/Data science/Basement project/Python/AutoML H2O/Final run v3/all_wells_predicted_m1.csv\", force = True)"
   ]
  }
 ],
 "metadata": {
  "interpreter": {
   "hash": "d302e1e476d001e648b3a0393d526d662d3912a481101030fe06485bdbb91cd0"
  },
  "kernelspec": {
   "display_name": "Python 3.8.8 64-bit ('base': conda)",
   "language": "python",
   "name": "python3"
  },
  "language_info": {
   "codemirror_mode": {
    "name": "ipython",
    "version": 3
   },
   "file_extension": ".py",
   "mimetype": "text/x-python",
   "name": "python",
   "nbconvert_exporter": "python",
   "pygments_lexer": "ipython3",
   "version": "3.8.8"
  },
  "orig_nbformat": 4
 },
 "nbformat": 4,
 "nbformat_minor": 2
}
