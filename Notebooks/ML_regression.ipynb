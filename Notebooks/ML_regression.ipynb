{
 "cells": [
  {
   "cell_type": "code",
   "execution_count": 1,
   "metadata": {},
   "outputs": [],
   "source": [
    "import csv\n",
    "import pandas as pd\n",
    "import numpy as np\n",
    "\n",
    "from sklearn.model_selection import train_test_split\n",
    "from sklearn.linear_model import LinearRegression\n",
    "from sklearn.metrics import mean_squared_error\n"
   ]
  },
  {
   "cell_type": "code",
   "execution_count": 2,
   "metadata": {},
   "outputs": [
    {
     "name": "stdout",
     "output_type": "stream",
     "text": [
      "<class 'pandas.core.frame.DataFrame'>\n",
      "RangeIndex: 624 entries, 0 to 623\n",
      "Data columns (total 9 columns):\n",
      " #   Column                  Non-Null Count  Dtype  \n",
      "---  ------                  --------------  -----  \n",
      " 0   well_name               624 non-null    object \n",
      " 1   gross_thickness_Augila  624 non-null    float64\n",
      " 2   gross_thickness_Gialo   624 non-null    float64\n",
      " 3   gross_thickness_Gir     624 non-null    float64\n",
      " 4   gross_thickness_Zelten  624 non-null    float64\n",
      " 5   lat                     624 non-null    float64\n",
      " 6   long                    624 non-null    float64\n",
      " 7   top_basement_MD         624 non-null    float64\n",
      " 8   top_seebase_MD          624 non-null    int64  \n",
      "dtypes: float64(7), int64(1), object(1)\n",
      "memory usage: 44.0+ KB\n"
     ]
    }
   ],
   "source": [
    "input_data_avg = pd.read_csv ('final_data.csv')\n",
    "input_data_avg.info()"
   ]
  },
  {
   "cell_type": "code",
   "execution_count": null,
   "metadata": {},
   "outputs": [],
   "source": [
    "input_data_avg.describe()"
   ]
  },
  {
   "cell_type": "code",
   "execution_count": 4,
   "metadata": {},
   "outputs": [
    {
     "name": "stderr",
     "output_type": "stream",
     "text": [
      "<ipython-input-4-51d57c654660>:11: FutureWarning: Automatic reindexing on DataFrame vs Series comparisons is deprecated and will raise ValueError in a future version.  Do `left, right = left.align(right, axis=1, copy=False)` before e.g. `left == right`\n",
      "  input_data_avg_clean = input_data_avg[~((input_data_avg < (Q1 - 1.5 * IQR)) |(input_data_avg > (Q3 + 1.5 * IQR))).any(axis=1)]\n",
      "<ipython-input-4-51d57c654660>:11: FutureWarning: Automatic reindexing on DataFrame vs Series comparisons is deprecated and will raise ValueError in a future version.  Do `left, right = left.align(right, axis=1, copy=False)` before e.g. `left == right`\n",
      "  input_data_avg_clean = input_data_avg[~((input_data_avg < (Q1 - 1.5 * IQR)) |(input_data_avg > (Q3 + 1.5 * IQR))).any(axis=1)]\n"
     ]
    },
    {
     "data": {
      "text/html": [
       "<div>\n",
       "<style scoped>\n",
       "    .dataframe tbody tr th:only-of-type {\n",
       "        vertical-align: middle;\n",
       "    }\n",
       "\n",
       "    .dataframe tbody tr th {\n",
       "        vertical-align: top;\n",
       "    }\n",
       "\n",
       "    .dataframe thead th {\n",
       "        text-align: right;\n",
       "    }\n",
       "</style>\n",
       "<table border=\"1\" class=\"dataframe\">\n",
       "  <thead>\n",
       "    <tr style=\"text-align: right;\">\n",
       "      <th></th>\n",
       "      <th>gross_thickness_Augila</th>\n",
       "      <th>gross_thickness_Gialo</th>\n",
       "      <th>gross_thickness_Gir</th>\n",
       "      <th>gross_thickness_Zelten</th>\n",
       "      <th>lat</th>\n",
       "      <th>long</th>\n",
       "      <th>top_basement_MD</th>\n",
       "      <th>top_seebase_MD</th>\n",
       "    </tr>\n",
       "  </thead>\n",
       "  <tbody>\n",
       "    <tr>\n",
       "      <th>count</th>\n",
       "      <td>481.000000</td>\n",
       "      <td>481.000000</td>\n",
       "      <td>481.000000</td>\n",
       "      <td>481.000000</td>\n",
       "      <td>481.000000</td>\n",
       "      <td>481.000000</td>\n",
       "      <td>481.000000</td>\n",
       "      <td>481.000000</td>\n",
       "    </tr>\n",
       "    <tr>\n",
       "      <th>mean</th>\n",
       "      <td>84.460907</td>\n",
       "      <td>401.299365</td>\n",
       "      <td>515.870090</td>\n",
       "      <td>143.479598</td>\n",
       "      <td>28.241113</td>\n",
       "      <td>20.856814</td>\n",
       "      <td>2653.436819</td>\n",
       "      <td>2720.619543</td>\n",
       "    </tr>\n",
       "    <tr>\n",
       "      <th>std</th>\n",
       "      <td>21.537534</td>\n",
       "      <td>78.337372</td>\n",
       "      <td>74.038344</td>\n",
       "      <td>28.140894</td>\n",
       "      <td>0.460262</td>\n",
       "      <td>1.207743</td>\n",
       "      <td>635.426353</td>\n",
       "      <td>659.157400</td>\n",
       "    </tr>\n",
       "    <tr>\n",
       "      <th>min</th>\n",
       "      <td>22.900000</td>\n",
       "      <td>169.200000</td>\n",
       "      <td>307.800000</td>\n",
       "      <td>69.500000</td>\n",
       "      <td>27.022159</td>\n",
       "      <td>17.179581</td>\n",
       "      <td>1506.610000</td>\n",
       "      <td>1531.000000</td>\n",
       "    </tr>\n",
       "    <tr>\n",
       "      <th>25%</th>\n",
       "      <td>77.400000</td>\n",
       "      <td>353.600000</td>\n",
       "      <td>480.700000</td>\n",
       "      <td>135.400321</td>\n",
       "      <td>28.008980</td>\n",
       "      <td>19.908088</td>\n",
       "      <td>2041.600000</td>\n",
       "      <td>2069.000000</td>\n",
       "    </tr>\n",
       "    <tr>\n",
       "      <th>50%</th>\n",
       "      <td>85.669925</td>\n",
       "      <td>396.410883</td>\n",
       "      <td>511.100000</td>\n",
       "      <td>135.400321</td>\n",
       "      <td>28.202871</td>\n",
       "      <td>21.206680</td>\n",
       "      <td>2770.620000</td>\n",
       "      <td>2880.000000</td>\n",
       "    </tr>\n",
       "    <tr>\n",
       "      <th>75%</th>\n",
       "      <td>92.300000</td>\n",
       "      <td>437.400000</td>\n",
       "      <td>549.600000</td>\n",
       "      <td>150.000000</td>\n",
       "      <td>28.395244</td>\n",
       "      <td>21.849683</td>\n",
       "      <td>3069.300000</td>\n",
       "      <td>3115.000000</td>\n",
       "    </tr>\n",
       "    <tr>\n",
       "      <th>max</th>\n",
       "      <td>147.200000</td>\n",
       "      <td>643.200000</td>\n",
       "      <td>729.100000</td>\n",
       "      <td>208.200000</td>\n",
       "      <td>29.572467</td>\n",
       "      <td>23.676663</td>\n",
       "      <td>4872.210000</td>\n",
       "      <td>4980.000000</td>\n",
       "    </tr>\n",
       "  </tbody>\n",
       "</table>\n",
       "</div>"
      ],
      "text/plain": [
       "       gross_thickness_Augila  gross_thickness_Gialo  gross_thickness_Gir  \\\n",
       "count              481.000000             481.000000           481.000000   \n",
       "mean                84.460907             401.299365           515.870090   \n",
       "std                 21.537534              78.337372            74.038344   \n",
       "min                 22.900000             169.200000           307.800000   \n",
       "25%                 77.400000             353.600000           480.700000   \n",
       "50%                 85.669925             396.410883           511.100000   \n",
       "75%                 92.300000             437.400000           549.600000   \n",
       "max                147.200000             643.200000           729.100000   \n",
       "\n",
       "       gross_thickness_Zelten         lat        long  top_basement_MD  \\\n",
       "count              481.000000  481.000000  481.000000       481.000000   \n",
       "mean               143.479598   28.241113   20.856814      2653.436819   \n",
       "std                 28.140894    0.460262    1.207743       635.426353   \n",
       "min                 69.500000   27.022159   17.179581      1506.610000   \n",
       "25%                135.400321   28.008980   19.908088      2041.600000   \n",
       "50%                135.400321   28.202871   21.206680      2770.620000   \n",
       "75%                150.000000   28.395244   21.849683      3069.300000   \n",
       "max                208.200000   29.572467   23.676663      4872.210000   \n",
       "\n",
       "       top_seebase_MD  \n",
       "count      481.000000  \n",
       "mean      2720.619543  \n",
       "std        659.157400  \n",
       "min       1531.000000  \n",
       "25%       2069.000000  \n",
       "50%       2880.000000  \n",
       "75%       3115.000000  \n",
       "max       4980.000000  "
      ]
     },
     "execution_count": 4,
     "metadata": {},
     "output_type": "execute_result"
    }
   ],
   "source": [
    "#cleaning the outlier into df using IQR score\n",
    "\n",
    "Q1 = input_data_avg.quantile(0.20)\n",
    "\n",
    "Q3 = input_data_avg.quantile(0.80)\n",
    "\n",
    "IQR = Q3 - Q1\n",
    "\n",
    "\n",
    "\n",
    "input_data_avg_clean = input_data_avg[~((input_data_avg < (Q1 - 1.5 * IQR)) |(input_data_avg > (Q3 + 1.5 * IQR))).any(axis=1)]\n",
    "\n",
    "input_data_avg_clean.describe()"
   ]
  },
  {
   "cell_type": "code",
   "execution_count": null,
   "metadata": {},
   "outputs": [],
   "source": [
    "#split dataframe in 2 df (random selection based on %)\n",
    "\n",
    "data1 = input_data_avg_clean.sample(frac = 0.962)\n",
    "\n",
    "data2 = input_data_avg_clean.drop(data1.index)\n",
    "\n",
    "data1.reset_index(drop=True, inplace=True)      \n",
    "data2.reset_index(drop=True, inplace=True) \n",
    "data1\n"
   ]
  },
  {
   "cell_type": "code",
   "execution_count": 6,
   "metadata": {},
   "outputs": [],
   "source": [
    "# build X and y numpy arrays\n",
    "\n",
    "#keep just the column top_basement_MD and convert it into np array (without label) and reshape it in the right format for scikitlearn\n",
    "y=data1['top_basement_MD'].values.reshape(-1,1)    #y=target data\n",
    "\n",
    "#remove the column top_basement_MD from the df and convert it into np array (without label)\n",
    "X=data1.drop(['top_basement_MD','well_name'],axis=1).values         #X=feature data\n"
   ]
  },
  {
   "cell_type": "code",
   "execution_count": 7,
   "metadata": {},
   "outputs": [
    {
     "name": "stdout",
     "output_type": "stream",
     "text": [
      "0.9060796115837983\n"
     ]
    }
   ],
   "source": [
    "X_train, X_test, y_train, y_test = train_test_split(X, y,test_size = 0.3, random_state=42)\n",
    "reg_all = LinearRegression()\n",
    "reg_all.fit(X_train, y_train)\n",
    "y_pred = reg_all.predict(X_test)\n",
    "#Print R^2 metric\n",
    "print(reg_all.score(X_test, y_test))"
   ]
  },
  {
   "cell_type": "code",
   "execution_count": 8,
   "metadata": {},
   "outputs": [
    {
     "name": "stdout",
     "output_type": "stream",
     "text": [
      "186.4939508728393\n"
     ]
    }
   ],
   "source": [
    "from sklearn.metrics import mean_squared_error\n",
    "rmse=np.sqrt(mean_squared_error(y_test,y_pred))\n",
    "#Print rmse metric\n",
    "print(rmse)"
   ]
  },
  {
   "cell_type": "code",
   "execution_count": 9,
   "metadata": {},
   "outputs": [],
   "source": [
    "# build blind data\n",
    "y_test_blind=data2['top_basement_MD'].values.reshape(-1,1)\n",
    "X_test_blind=data2.drop(['top_basement_MD','well_name'],axis=1).values"
   ]
  },
  {
   "cell_type": "code",
   "execution_count": 10,
   "metadata": {},
   "outputs": [
    {
     "data": {
      "text/plain": [
       "0.702141572838113"
      ]
     },
     "execution_count": 10,
     "metadata": {},
     "output_type": "execute_result"
    }
   ],
   "source": [
    "y_pred_blind = reg_all.predict(X_test_blind)\n",
    "reg_all.score(X_test_blind, y_test_blind)"
   ]
  },
  {
   "cell_type": "code",
   "execution_count": 11,
   "metadata": {},
   "outputs": [
    {
     "name": "stdout",
     "output_type": "stream",
     "text": [
      "254.50415809122532\n"
     ]
    }
   ],
   "source": [
    "rmse_blind=np.sqrt(mean_squared_error(y_test_blind,y_pred_blind))\n",
    "print(rmse_blind)"
   ]
  },
  {
   "cell_type": "code",
   "execution_count": 12,
   "metadata": {},
   "outputs": [],
   "source": [
    "# plotting \n",
    "\n",
    "import numpy as np\n",
    "import pandas as pd\n",
    "from numpy import linspace, meshgrid\n",
    "from scipy.interpolate import griddata\n",
    "\n"
   ]
  },
  {
   "cell_type": "code",
   "execution_count": null,
   "metadata": {},
   "outputs": [],
   "source": [
    "data2['predicted_basem']=y_pred_blind\n",
    "\n",
    "data2"
   ]
  },
  {
   "cell_type": "code",
   "execution_count": 14,
   "metadata": {},
   "outputs": [],
   "source": [
    "x= data2.loc[:,['long']].values\n",
    "y=data2.loc[:,['lat']].values\n",
    "z=data2.loc[:,['top_basement_MD']].values\n",
    "z_pred=data2.loc[:,['predicted_basem']].values\n",
    "\n",
    "z_diff=abs(z-z_pred)"
   ]
  },
  {
   "cell_type": "code",
   "execution_count": 15,
   "metadata": {},
   "outputs": [
    {
     "data": {
      "text/plain": [
       "Text(0, 0.5, 'lat')"
      ]
     },
     "execution_count": 15,
     "metadata": {},
     "output_type": "execute_result"
    },
    {
     "data": {
      "image/png": "[encoded data removed]",
      "text/plain": [
       "<Figure size 432x288 with 2 Axes>"
      ]
     },
     "metadata": {
      "needs_background": "light"
     },
     "output_type": "display_data"
    },
    {
     "data": {
      "image/png": "[encoded data removed]",
      "text/plain": [
       "<Figure size 432x288 with 2 Axes>"
      ]
     },
     "metadata": {
      "needs_background": "light"
     },
     "output_type": "display_data"
    },
    {
     "data": {
      "image/png": "[encoded data removed]",
      "text/plain": [
       "<Figure size 432x288 with 2 Axes>"
      ]
     },
     "metadata": {
      "needs_background": "light"
     },
     "output_type": "display_data"
    }
   ],
   "source": [
    "import matplotlib.pyplot as plt\n",
    "\n",
    "#plot top basement from markers\n",
    "plt.figure()\n",
    "\n",
    "plt.scatter(x, y, c=z, cmap='Wistia')\n",
    "cb = plt.colorbar()\n",
    "cb.set_label('Top basement MD')\n",
    "plt.xlabel('long')\n",
    "plt.ylabel('lat')\n",
    "\n",
    "\n",
    "#plot predicted basement from the model\n",
    "plt.figure()\n",
    "\n",
    "plt.scatter(x, y, c=z_pred, cmap='Wistia')\n",
    "cb = plt.colorbar()\n",
    "cb.set_label('predicted_basem')\n",
    "plt.xlabel('long')\n",
    "plt.ylabel('lat')\n",
    "\n",
    "#plot difference\n",
    "plt.figure()\n",
    "\n",
    "plt.scatter(x, y, c=z_diff, cmap='Wistia')\n",
    "cb = plt.colorbar()\n",
    "cb.set_label('difference')\n",
    "plt.xlabel('long')\n",
    "plt.ylabel('lat')\n"
   ]
  },
  {
   "cell_type": "code",
   "execution_count": null,
   "metadata": {},
   "outputs": [
    {
     "data": {
      "text/plain": [
       "Text(0, 0.5, 'lat')"
      ]
     },
     "execution_count": 48,
     "metadata": {},
     "output_type": "execute_result"
    },
    {
     "data": {
      "image/png": "[encoded data removed]",
      "text/plain": [
       "<Figure size 432x288 with 2 Axes>"
      ]
     },
     "metadata": {
      "needs_background": "light"
     },
     "output_type": "display_data"
    }
   ],
   "source": [
    "x= data1.loc[:,['long']].values\n",
    "y=data1.loc[:,['lat']].values\n",
    "z_basement=data1.loc[:,['top_basement_MD']].values\n",
    "z_seebase=z=data1.loc[:,['top_seebase_MD']].values\n",
    "z_diff2=abs(z_basement-z_seebase)\n",
    "\n",
    "plt.figure()\n",
    "\n",
    "plt.scatter(x, y, c=z_diff2, cmap='Wistia')\n",
    "cb = plt.colorbar()\n",
    "cb.set_label('diff basement well - seebase')\n",
    "plt.xlabel('long')\n",
    "plt.ylabel('lat')"
   ]
  }
 ],
 "metadata": {
  "interpreter": {
   "hash": "d302e1e476d001e648b3a0393d526d662d3912a481101030fe06485bdbb91cd0"
  },
  "kernelspec": {
   "display_name": "Python 3.8.8 64-bit ('base': conda)",
   "name": "python3"
  },
  "language_info": {
   "codemirror_mode": {
    "name": "ipython",
    "version": 3
   },
   "file_extension": ".py",
   "mimetype": "text/x-python",
   "name": "python",
   "nbconvert_exporter": "python",
   "pygments_lexer": "ipython3",
   "version": "3.8.8"
  },
  "orig_nbformat": 4
 },
 "nbformat": 4,
 "nbformat_minor": 2
}
